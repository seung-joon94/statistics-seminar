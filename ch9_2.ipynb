{
 "cells": [
  {
   "cell_type": "code",
   "execution_count": 5,
   "metadata": {},
   "outputs": [
    {
     "name": "stdout",
     "output_type": "stream",
     "text": [
      "Model: \"model_2\"\n",
      "__________________________________________________________________________________________________\n",
      "Layer (type)                    Output Shape         Param #     Connected to                     \n",
      "==================================================================================================\n",
      "input_5 (InputLayer)            (None, 300, 300, 3)  0                                            \n",
      "__________________________________________________________________________________________________\n",
      "conv2d_33 (Conv2D)              (None, 300, 300, 64) 4864        input_5[0][0]                    \n",
      "__________________________________________________________________________________________________\n",
      "conv2d_30 (Conv2D)              (None, 300, 300, 64) 256         input_5[0][0]                    \n",
      "__________________________________________________________________________________________________\n",
      "average_pooling2d_5 (AveragePoo (None, 150, 150, 3)  0           input_5[0][0]                    \n",
      "__________________________________________________________________________________________________\n",
      "conv2d_34 (Conv2D)              (None, 300, 300, 64) 36928       conv2d_33[0][0]                  \n",
      "__________________________________________________________________________________________________\n",
      "conv2d_29 (Conv2D)              (None, 150, 150, 64) 256         input_5[0][0]                    \n",
      "__________________________________________________________________________________________________\n",
      "conv2d_31 (Conv2D)              (None, 150, 150, 64) 36928       conv2d_30[0][0]                  \n",
      "__________________________________________________________________________________________________\n",
      "conv2d_32 (Conv2D)              (None, 150, 150, 64) 1792        average_pooling2d_5[0][0]        \n",
      "__________________________________________________________________________________________________\n",
      "conv2d_35 (Conv2D)              (None, 150, 150, 64) 36928       conv2d_34[0][0]                  \n",
      "__________________________________________________________________________________________________\n",
      "concatenate_4 (Concatenate)     (None, 150, 150, 256 0           conv2d_29[0][0]                  \n",
      "                                                                 conv2d_31[0][0]                  \n",
      "                                                                 conv2d_32[0][0]                  \n",
      "                                                                 conv2d_35[0][0]                  \n",
      "__________________________________________________________________________________________________\n",
      "dense_3 (Dense)                 (None, 150, 150, 1)  257         concatenate_4[0][0]              \n",
      "==================================================================================================\n",
      "Total params: 118,209\n",
      "Trainable params: 118,209\n",
      "Non-trainable params: 0\n",
      "__________________________________________________________________________________________________\n"
     ]
    }
   ],
   "source": [
    "from keras.layers import Conv2D, AveragePooling2D, concatenate,Dense\n",
    "from keras.models import Model\n",
    "from keras import Input\n",
    "image_input=Input(shape=(300,300,3))\n",
    "branch_a=Conv2D(64,1,activation='relu',strides=2)(image_input)\n",
    "branch_b=Conv2D(64,1,activation='relu')(image_input)\n",
    "branch_b=Conv2D(64,3, activation='relu',padding='same',strides=2)(branch_b)\n",
    "branch_c=AveragePooling2D(2)(image_input)\n",
    "branch_c=Conv2D(64,3,activation='relu',padding='same')(branch_c)\n",
    "branch_d=Conv2D(64,5,activation='relu',padding='same')(image_input)\n",
    "branch_d=Conv2D(64,3,activation='relu',padding='same')(branch_d)\n",
    "branch_d=Conv2D(64,3,activation='relu',padding='same',strides=2)(branch_d)\n",
    "concatenated=concatenate([branch_a,branch_b,branch_c,branch_d],axis=-1)\n",
    "out=Dense(1, activation='sigmoid')(concatenated)\n",
    "model=Model(image_input,out)\n",
    "model.summary()"
   ]
  },
  {
   "cell_type": "code",
   "execution_count": 6,
   "metadata": {},
   "outputs": [],
   "source": [
    "import pandas as pd \n",
    "from skimage import io\n",
    "data=pd.read_csv('C:/Users/ysp/Desktop/Deep Learning/a943287.csv')\n",
    "\n",
    "data_male=data[data['please_select_the_gender_of_the_person_in_the_picture']=='male']\n",
    "data_female=data[data['please_select_the_gender_of_the_person_in_the_picture']=='female']\n",
    "final_data=pd.concat([data_male[:1000],data_female[:1000]], axis=0).reset_index(drop=True)\n",
    "\n",
    "x=[]\n",
    "y=[]\n",
    "for i in range(final_data.shape[0]):\n",
    "    try:\n",
    "        image=io.imread(final_data.loc[i]['image_url'])\n",
    "        if (image.shape==(300,300,3)):\n",
    "            x.append(image)\n",
    "            y.append(final_data.loc[i]['please_select_the_gender_of_the_person_in_the_picture'])\n",
    "    except:\n",
    "        continue"
   ]
  },
  {
   "cell_type": "code",
   "execution_count": 10,
   "metadata": {},
   "outputs": [
    {
     "name": "stdout",
     "output_type": "stream",
     "text": [
      "(1745, 300, 300, 3)\n"
     ]
    }
   ],
   "source": [
    "import numpy as np\n",
    "x1=[]\n",
    "y1=[]\n",
    "for i in range(len(x)):\n",
    "    x1.append(x[i])\n",
    "    img_label=np.where(y[i]=='male',1,0)\n",
    "    y1.append(img_label)\n",
    "x1=np.array(x)\n",
    "x=np.array(x1)/255.\n",
    "y=np.array(y1)\n",
    "print(x.shape)"
   ]
  },
  {
   "cell_type": "code",
   "execution_count": 17,
   "metadata": {},
   "outputs": [
    {
     "name": "stdout",
     "output_type": "stream",
     "text": [
      "(1745, 1, 8, 8, 2048)\n",
      "(1483, 8, 8, 2048)\n",
      "(262, 8, 8, 2048)\n",
      "(1483,)\n"
     ]
    }
   ],
   "source": [
    "from keras.applications import inception_v3\n",
    "from keras.applications.inception_v3 import preprocess_input\n",
    "incep_model=inception_v3.InceptionV3(include_top=False, weights='imagenet',input_shape=(300,300,3))\n",
    "\n",
    "x2=[]\n",
    "for i in range(len(x)):\n",
    "    img=x[i]\n",
    "    img=preprocess_input(img.reshape(1,300,300,3))\n",
    "    img_new=incep_model.predict(img.reshape(1,300,300,3))\n",
    "    x2.append(img_new)\n",
    "x2=np.array(x2)\n",
    "print(x2.shape)\n",
    "x2=x2.reshape(x2.shape[0],x2.shape[2], x2.shape[3], x2.shape[4])\n",
    "\n",
    "from sklearn.model_selection import train_test_split\n",
    "x_train, x_test, y_train, y_test=train_test_split(x2, y, test_size=0.15)\n",
    "print(x_train.shape)\n",
    "print(x_test.shape)\n",
    "print(y_train.shape)"
   ]
  },
  {
   "cell_type": "code",
   "execution_count": 18,
   "metadata": {},
   "outputs": [
    {
     "name": "stdout",
     "output_type": "stream",
     "text": [
      "Model: \"sequential_1\"\n",
      "_________________________________________________________________\n",
      "Layer (type)                 Output Shape              Param #   \n",
      "=================================================================\n",
      "conv2d_412 (Conv2D)          (None, 6, 6, 512)         9437696   \n",
      "_________________________________________________________________\n",
      "flatten_1 (Flatten)          (None, 18432)             0         \n",
      "_________________________________________________________________\n",
      "dense_4 (Dense)              (None, 512)               9437696   \n",
      "_________________________________________________________________\n",
      "dropout_1 (Dropout)          (None, 512)               0         \n",
      "_________________________________________________________________\n",
      "dense_5 (Dense)              (None, 1)                 513       \n",
      "=================================================================\n",
      "Total params: 18,875,905\n",
      "Trainable params: 18,875,905\n",
      "Non-trainable params: 0\n",
      "_________________________________________________________________\n"
     ]
    }
   ],
   "source": [
    "from keras.models import Sequential\n",
    "from keras.layers import Conv2D, MaxPooling2D, Flatten, Dense, Dropout\n",
    "model_v3=Sequential()\n",
    "model_v3.add(Conv2D(512,3,activation='relu',input_shape=(x_train.shape[1],x_train.shape[2],x_train.shape[3])))\n",
    "model_v3.add(Flatten())\n",
    "model_v3.add(Dense(512,activation='relu'))\n",
    "model_v3.add(Dropout(0.5))\n",
    "model_v3.add(Dense(1,activation='sigmoid'))\n",
    "model_v3.summary()"
   ]
  },
  {
   "cell_type": "code",
   "execution_count": 20,
   "metadata": {},
   "outputs": [
    {
     "name": "stdout",
     "output_type": "stream",
     "text": [
      "Train on 1483 samples, validate on 262 samples\n",
      "Epoch 1/10\n",
      "1483/1483 [==============================] - 31s 21ms/step - loss: 0.0154 - acc: 0.9919 - val_loss: 0.0000e+00 - val_acc: 1.0000\n",
      "Epoch 2/10\n",
      "1483/1483 [==============================] - 31s 21ms/step - loss: 0.0000e+00 - acc: 1.0000 - val_loss: 0.0000e+00 - val_acc: 1.0000\n",
      "Epoch 3/10\n",
      "1483/1483 [==============================] - 31s 21ms/step - loss: 0.0000e+00 - acc: 1.0000 - val_loss: 0.0000e+00 - val_acc: 1.0000\n",
      "Epoch 4/10\n",
      "1483/1483 [==============================] - 31s 21ms/step - loss: 0.0000e+00 - acc: 1.0000 - val_loss: 0.0000e+00 - val_acc: 1.0000\n",
      "Epoch 5/10\n",
      "1483/1483 [==============================] - 31s 21ms/step - loss: 0.0000e+00 - acc: 1.0000 - val_loss: 0.0000e+00 - val_acc: 1.0000\n",
      "Epoch 6/10\n",
      "1483/1483 [==============================] - 31s 21ms/step - loss: 0.0000e+00 - acc: 1.0000 - val_loss: 0.0000e+00 - val_acc: 1.0000\n",
      "Epoch 7/10\n",
      "1483/1483 [==============================] - 31s 21ms/step - loss: 0.0000e+00 - acc: 1.0000 - val_loss: 0.0000e+00 - val_acc: 1.0000\n",
      "Epoch 8/10\n",
      "1483/1483 [==============================] - 31s 21ms/step - loss: 0.0000e+00 - acc: 1.0000 - val_loss: 0.0000e+00 - val_acc: 1.0000\n",
      "Epoch 9/10\n",
      "1483/1483 [==============================] - 31s 21ms/step - loss: 0.0000e+00 - acc: 1.0000 - val_loss: 0.0000e+00 - val_acc: 1.0000\n",
      "Epoch 10/10\n",
      "1483/1483 [==============================] - 31s 21ms/step - loss: 0.0000e+00 - acc: 1.0000 - val_loss: 0.0000e+00 - val_acc: 1.0000\n"
     ]
    }
   ],
   "source": [
    "model_v3.compile(loss='binary_crossentropy',optimizer='adam',metrics=['acc'])\n",
    "history_v3=model_v3.fit(x_train,y_train,batch_size=32,epochs=10,validation_data=(x_test,y_test))"
   ]
  },
  {
   "cell_type": "code",
   "execution_count": 22,
   "metadata": {},
   "outputs": [
    {
     "data": {
      "image/png": "[encoded data removed]",
      "text/plain": [
       "<Figure size 432x288 with 1 Axes>"
      ]
     },
     "metadata": {
      "needs_background": "light"
     },
     "output_type": "display_data"
    },
    {
     "data": {
      "image/png": "[encoded data removed]",
      "text/plain": [
       "<Figure size 432x288 with 1 Axes>"
      ]
     },
     "metadata": {
      "needs_background": "light"
     },
     "output_type": "display_data"
    }
   ],
   "source": [
    "import matplotlib.pyplot as plt\n",
    "acc=history_v3.history['acc']\n",
    "val_acc=history_v3.history['val_acc']\n",
    "loss=history_v3.history['loss']\n",
    "val_loss=history_v3.history['val_loss']\n",
    "epochs=range(1,len(acc)+1)\n",
    "plt.plot(epochs,acc,'b',label='training acc')\n",
    "plt.plot(epochs,val_acc,'bo',label='validation acc')\n",
    "plt.title('training and validation accuracy')\n",
    "plt.legend()\n",
    "plt.figure()\n",
    "plt.plot(epochs,loss,'b',label='training loss')\n",
    "plt.plot(epochs,val_loss,'bo',label='validation loss')\n",
    "plt.title('training and validation loss')\n",
    "plt.legend()\n",
    "plt.show()"
   ]
  },
  {
   "cell_type": "code",
   "execution_count": 1,
   "metadata": {},
   "outputs": [
    {
     "name": "stderr",
     "output_type": "stream",
     "text": [
      "Using TensorFlow backend.\n"
     ]
    },
    {
     "name": "stdout",
     "output_type": "stream",
     "text": [
      "Model: \"sequential_1\"\n",
      "_________________________________________________________________\n",
      "Layer (type)                 Output Shape              Param #   \n",
      "=================================================================\n",
      "separable_conv2d_1 (Separabl (None, 126, 126, 32)      155       \n",
      "_________________________________________________________________\n",
      "separable_conv2d_2 (Separabl (None, 122, 122, 64)      2912      \n",
      "_________________________________________________________________\n",
      "global_average_pooling2d_1 ( (None, 64)                0         \n",
      "_________________________________________________________________\n",
      "dense_1 (Dense)              (None, 32)                2080      \n",
      "_________________________________________________________________\n",
      "dense_2 (Dense)              (None, 5)                 165       \n",
      "=================================================================\n",
      "Total params: 5,312\n",
      "Trainable params: 5,312\n",
      "Non-trainable params: 0\n",
      "_________________________________________________________________\n"
     ]
    }
   ],
   "source": [
    "from keras.models import Sequential\n",
    "from keras.layers import SeparableConv2D, GlobalAveragePooling2D,Dense\n",
    "model=Sequential()\n",
    "model.add(SeparableConv2D(32,3,activation='relu',input_shape=(128,128,3)))\n",
    "model.add(SeparableConv2D(64,5,activation='relu'))\n",
    "model.add(GlobalAveragePooling2D())\n",
    "model.add(Dense(32,activation='relu'))\n",
    "model.add(Dense(5,activation='softmax'))\n",
    "model.summary()"
   ]
  },
  {
   "cell_type": "code",
   "execution_count": null,
   "metadata": {},
   "outputs": [],
   "source": []
  }
 ],
 "metadata": {
  "kernelspec": {
   "display_name": "Python 3",
   "language": "python",
   "name": "python3"
  },
  "language_info": {
   "codemirror_mode": {
    "name": "ipython",
    "version": 3
   },
   "file_extension": ".py",
   "mimetype": "text/x-python",
   "name": "python",
   "nbconvert_exporter": "python",
   "pygments_lexer": "ipython3",
   "version": "3.7.4"
  }
 },
 "nbformat": 4,
 "nbformat_minor": 4
}
