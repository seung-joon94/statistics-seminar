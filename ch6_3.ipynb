{
 "cells": [
  {
   "cell_type": "code",
   "execution_count": 1,
   "metadata": {},
   "outputs": [
    {
     "name": "stderr",
     "output_type": "stream",
     "text": [
      "Using TensorFlow backend.\n"
     ]
    },
    {
     "name": "stdout",
     "output_type": "stream",
     "text": [
      "(25000,)\n",
      "(25000,)\n"
     ]
    }
   ],
   "source": [
    "from keras.datasets import imdb\n",
    "from keras.preprocessing import sequence\n",
    "(x_train, train_label), (x_test, test_label)=imdb.load_data(num_words=10000)\n",
    "print(x_train.shape)\n",
    "print(x_test.shape)"
   ]
  },
  {
   "cell_type": "code",
   "execution_count": 5,
   "metadata": {},
   "outputs": [
    {
     "name": "stdout",
     "output_type": "stream",
     "text": [
      "[1, 14, 22, 16, 43, 530, 973, 1622, 1385, 65, 458, 4468, 66, 3941, 4, 173, 36, 256, 5, 25, 100, 43, 838, 112, 50, 670, 2, 9, 35, 480, 284, 5, 150, 4, 172, 112, 167, 2, 336, 385, 39, 4, 172, 4536, 1111, 17, 546, 38, 13, 447, 4, 192, 50, 16, 6, 147, 2025, 19, 14, 22, 4, 1920, 4613, 469, 4, 22, 71, 87, 12, 16, 43, 530, 38, 76, 15, 13, 1247, 4, 22, 17, 515, 17, 12, 16, 626, 18, 2, 5, 62, 386, 12, 8, 316, 8, 106, 5, 4, 2223, 5244, 16, 480, 66, 3785, 33, 4, 130, 12, 16, 38, 619, 5, 25, 124, 51, 36, 135, 48, 25, 1415, 33, 6, 22, 12, 215, 28, 77, 52, 5, 14, 407, 16, 82, 2, 8, 4, 107, 117, 5952, 15, 256, 4, 2, 7, 3766, 5, 723, 36, 71, 43, 530, 476, 26, 400, 317, 46, 7, 4, 2, 1029, 13, 104, 88, 4, 381, 15, 297, 98, 32, 2071, 56, 26, 141, 6, 194, 7486, 18, 4, 226, 22, 21, 134, 476, 26, 480, 5, 144, 30, 5535, 18, 51, 36, 28, 224, 92, 25, 104, 4, 226, 65, 16, 38, 1334, 88, 12, 16, 283, 5, 16, 4472, 113, 103, 32, 15, 16, 5345, 19, 178, 32]\n",
      "1\n"
     ]
    }
   ],
   "source": [
    "print(x_train[0])\n",
    "print(train_label[0])"
   ]
  },
  {
   "cell_type": "code",
   "execution_count": 11,
   "metadata": {},
   "outputs": [
    {
     "name": "stdout",
     "output_type": "stream",
     "text": [
      "Model: \"sequential_6\"\n",
      "_________________________________________________________________\n",
      "Layer (type)                 Output Shape              Param #   \n",
      "=================================================================\n",
      "embedding_6 (Embedding)      (None, 100, 95)           950000    \n",
      "_________________________________________________________________\n",
      "dropout_4 (Dropout)          (None, 100, 95)           0         \n",
      "_________________________________________________________________\n",
      "flatten_6 (Flatten)          (None, 9500)              0         \n",
      "_________________________________________________________________\n",
      "dropout_5 (Dropout)          (None, 9500)              0         \n",
      "_________________________________________________________________\n",
      "dense_9 (Dense)              (None, 1)                 9501      \n",
      "=================================================================\n",
      "Total params: 959,501\n",
      "Trainable params: 959,501\n",
      "Non-trainable params: 0\n",
      "_________________________________________________________________\n"
     ]
    }
   ],
   "source": [
    "x_train=sequence.pad_sequences(x_train,maxlen=100)\n",
    "x_test=sequence.pad_sequences(x_test,maxlen=100)\n",
    "from keras.models import Sequential\n",
    "from keras.layers import Flatten, Dense, Embedding,Dropout\n",
    "imdb=Sequential()\n",
    "imdb.add(Embedding(10000,95,input_length=100))\n",
    "imdb.add(Dropout(0.5))\n",
    "imdb.add(Flatten())\n",
    "imdb.add(Dropout(0.5))\n",
    "imdb.add(Dense(1, activation='sigmoid'))\n",
    "imdb.summary()"
   ]
  },
  {
   "cell_type": "code",
   "execution_count": 12,
   "metadata": {},
   "outputs": [
    {
     "name": "stderr",
     "output_type": "stream",
     "text": [
      "C:\\Users\\ysp\\anaconda3\\lib\\site-packages\\tensorflow_core\\python\\framework\\indexed_slices.py:424: UserWarning: Converting sparse IndexedSlices to a dense Tensor of unknown shape. This may consume a large amount of memory.\n",
      "  \"Converting sparse IndexedSlices to a dense Tensor of unknown shape. \"\n"
     ]
    },
    {
     "name": "stdout",
     "output_type": "stream",
     "text": [
      "Train on 21250 samples, validate on 3750 samples\n",
      "Epoch 1/10\n",
      "21250/21250 [==============================] - 7s 350us/step - loss: 0.6088 - acc: 0.6653 - val_loss: 0.4549 - val_acc: 0.7971\n",
      "Epoch 2/10\n",
      "21250/21250 [==============================] - 7s 343us/step - loss: 0.3696 - acc: 0.8419 - val_loss: 0.3548 - val_acc: 0.8437\n",
      "Epoch 3/10\n",
      "21250/21250 [==============================] - 7s 344us/step - loss: 0.2953 - acc: 0.8775 - val_loss: 0.3441 - val_acc: 0.8515\n",
      "Epoch 4/10\n",
      "21250/21250 [==============================] - 7s 344us/step - loss: 0.2612 - acc: 0.8930 - val_loss: 0.3414 - val_acc: 0.8605\n",
      "Epoch 5/10\n",
      "21250/21250 [==============================] - 7s 343us/step - loss: 0.2311 - acc: 0.9072 - val_loss: 0.3483 - val_acc: 0.8549\n",
      "Epoch 6/10\n",
      "21250/21250 [==============================] - 7s 343us/step - loss: 0.2058 - acc: 0.9175 - val_loss: 0.3495 - val_acc: 0.8552\n",
      "Epoch 7/10\n",
      "21250/21250 [==============================] - 7s 340us/step - loss: 0.1855 - acc: 0.9287 - val_loss: 0.3527 - val_acc: 0.8584\n",
      "Epoch 8/10\n",
      "21250/21250 [==============================] - 7s 341us/step - loss: 0.1596 - acc: 0.9385 - val_loss: 0.3608 - val_acc: 0.8560\n",
      "Epoch 9/10\n",
      "21250/21250 [==============================] - 7s 343us/step - loss: 0.1438 - acc: 0.9456 - val_loss: 0.3646 - val_acc: 0.8568\n",
      "Epoch 10/10\n",
      "21250/21250 [==============================] - 7s 348us/step - loss: 0.1271 - acc: 0.9521 - val_loss: 0.3716 - val_acc: 0.8515\n"
     ]
    }
   ],
   "source": [
    "imdb.compile(optimizer='rmsprop', loss='binary_crossentropy', metrics=['acc'])\n",
    "result=imdb.fit(x_train, train_label, epochs=10,batch_size=32, validation_split=0.15)"
   ]
  },
  {
   "cell_type": "code",
   "execution_count": 14,
   "metadata": {},
   "outputs": [
    {
     "data": {
      "image/png": "[encoded data removed]",
      "text/plain": [
       "<Figure size 432x288 with 1 Axes>"
      ]
     },
     "metadata": {
      "needs_background": "light"
     },
     "output_type": "display_data"
    },
    {
     "data": {
      "image/png": "[encoded data removed]",
      "text/plain": [
       "<Figure size 432x288 with 1 Axes>"
      ]
     },
     "metadata": {
      "needs_background": "light"
     },
     "output_type": "display_data"
    }
   ],
   "source": [
    "import matplotlib.pyplot as plt\n",
    "acc=result.history['acc']\n",
    "val_acc=result.history['val_acc']\n",
    "loss=result.history['loss']\n",
    "val_loss=result.history['val_loss']\n",
    "epochs=range(1,len(acc)+1)\n",
    "plt.plot(epochs,acc,'b',label='training acc')\n",
    "plt.plot(epochs,val_acc,'bo',label='validation acc')\n",
    "plt.title('training and validation accuracy')\n",
    "plt.legend()\n",
    "plt.figure()\n",
    "plt.plot(epochs,loss,'b',label='training loss')\n",
    "plt.plot(epochs,val_loss,'bo',label='validation loss')\n",
    "plt.title('training and validation loss')\n",
    "plt.legend()\n",
    "plt.show()"
   ]
  },
  {
   "cell_type": "code",
   "execution_count": 67,
   "metadata": {},
   "outputs": [
    {
     "name": "stdout",
     "output_type": "stream",
     "text": [
      "Requirement already satisfied: pyprind in c:\\users\\ysp\\anaconda3\\lib\\site-packages (2.11.2)\n"
     ]
    },
    {
     "name": "stderr",
     "output_type": "stream",
     "text": [
      "0% [##############################] 100% | ETA: 00:00:00"
     ]
    },
    {
     "name": "stdout",
     "output_type": "stream",
     "text": [
      "                                              review  sentiment\n",
      "0  I went and saw this movie last night after bei...          1\n",
      "1  Actor turned director Bill Paxton follows up h...          1\n",
      "2  As a recreational golfer with some knowledge o...          1\n",
      "3  I saw this film in a sneak preview, and it is ...          1\n",
      "4  Bill Paxton has taken the true story of the 19...          1\n",
      "(50000, 2)\n"
     ]
    },
    {
     "name": "stderr",
     "output_type": "stream",
     "text": [
      "\n",
      "Total time elapsed: 00:00:50\n"
     ]
    }
   ],
   "source": [
    "!pip install pyprind\n",
    "import pyprind\n",
    "import pandas as pd\n",
    "import os\n",
    "import numpy as np\n",
    "imdb_dir='C:/Users/ysp/Desktop/Deep Learning/aclImdb'\n",
    "labels={'pos':1, 'neg':0}\n",
    "pbar=pyprind.ProgBar(50000)\n",
    "df=pd.DataFrame()\n",
    "for data_type in ('test', 'train'):\n",
    "    for label_type in ('pos','neg'):\n",
    "        path=os.path.join(imdb_dir,data_type,label_type)\n",
    "        for file in os.listdir(path):\n",
    "            with open(os.path.join(path,file),'r', encoding='utf-8') as infile:\n",
    "                txt=infile.read()\n",
    "            df=df.append([[txt,labels[label_type]]], ignore_index=True)\n",
    "            pbar.update()\n",
    "df.columns=['review', 'sentiment']\n",
    "print(df.head())\n",
    "print(df.shape)\n",
    "df=df.reindex(np.random.permutation(df.index))"
   ]
  },
  {
   "cell_type": "code",
   "execution_count": 70,
   "metadata": {},
   "outputs": [
    {
     "name": "stdout",
     "output_type": "stream",
     "text": [
      "124252\n",
      "(50000, 100)\n",
      "(50000,)\n"
     ]
    }
   ],
   "source": [
    "from keras.preprocessing.text import Tokenizer\n",
    "from keras.preprocessing.sequence import pad_sequences\n",
    "import numpy as np\n",
    "training_samples=25000\n",
    "validation_samples=10000\n",
    "max_words=10000\n",
    "maxlen=100\n",
    "token=Tokenizer(num_words=max_words)\n",
    "token.fit_on_texts(df['review'].values)\n",
    "sequence=token.texts_to_sequences(df['review'].values)\n",
    "word_index=token.word_index\n",
    "print(len(word_index))\n",
    "labels=df['sentiment'].values\n",
    "data=pad_sequences(sequence, maxlen=maxlen)\n",
    "print(data.shape)\n",
    "print(labels.shape)\n",
    "#np.random.shuffle(data) #pandas 데이터일 경우, data.sample(frac=1).reset_index(drop=True)\n",
    "#np.random.shuffle(labels)\n",
    "x_train=data[:training_samples]\n",
    "y_train=labels[:training_samples]\n",
    "x_val=data[training_samples:training_samples+10000]\n",
    "y_val=labels[training_samples:training_samples+10000]\n",
    "x_test=data[training_samples+10000:]\n",
    "y_test=labels[training_samples+10000:]"
   ]
  },
  {
   "cell_type": "code",
   "execution_count": 71,
   "metadata": {},
   "outputs": [
    {
     "name": "stdout",
     "output_type": "stream",
     "text": [
      "400000\n"
     ]
    }
   ],
   "source": [
    "glove_dir='C:/Users/ysp/Desktop/Deep Learning/glove.6B'\n",
    "embedding_index={}\n",
    "f=open(os.path.join(glove_dir,'glove.6B.100d.txt'),encoding='UTF8')\n",
    "for line in f:\n",
    "    values=line.split()\n",
    "    word=values[0]\n",
    "    seq=np.asarray(values[1:],dtype='float32')\n",
    "    embedding_index[word]=seq\n",
    "f.close\n",
    "print(len(embedding_index))"
   ]
  },
  {
   "cell_type": "code",
   "execution_count": 72,
   "metadata": {},
   "outputs": [],
   "source": [
    "embedding_dim=100\n",
    "embedding_matrix=np.zeros((max_words,embedding_dim))\n",
    "for word,i in word_index.items():\n",
    "    if i<max_words:\n",
    "        embedding_vector=embedding_index.get(word)\n",
    "        if embedding_vector is not None:\n",
    "            embedding_matrix[i]=embedding_vector"
   ]
  },
  {
   "cell_type": "code",
   "execution_count": 73,
   "metadata": {},
   "outputs": [
    {
     "name": "stdout",
     "output_type": "stream",
     "text": [
      "Model: \"sequential_17\"\n",
      "_________________________________________________________________\n",
      "Layer (type)                 Output Shape              Param #   \n",
      "=================================================================\n",
      "embedding_17 (Embedding)     (None, 100, 100)          1000000   \n",
      "_________________________________________________________________\n",
      "flatten_17 (Flatten)         (None, 10000)             0         \n",
      "_________________________________________________________________\n",
      "dropout_11 (Dropout)         (None, 10000)             0         \n",
      "_________________________________________________________________\n",
      "dense_20 (Dense)             (None, 1)                 10001     \n",
      "=================================================================\n",
      "Total params: 1,010,001\n",
      "Trainable params: 1,010,001\n",
      "Non-trainable params: 0\n",
      "_________________________________________________________________\n"
     ]
    }
   ],
   "source": [
    "from keras.models import Sequential\n",
    "from keras.layers import Embedding,Dense,Flatten,Dropout\n",
    "model_gl=Sequential()\n",
    "model_gl.add(Embedding(max_words,embedding_dim,input_length=maxlen))\n",
    "model_gl.add(Flatten())\n",
    "model_gl.add(Dropout(0.3))\n",
    "model_gl.add(Dense(1,activation='sigmoid'))\n",
    "model_gl.summary()"
   ]
  },
  {
   "cell_type": "code",
   "execution_count": 74,
   "metadata": {},
   "outputs": [],
   "source": [
    "model_gl.layers[0].set_weights([embedding_matrix])\n",
    "model_gl.layers[0].trainable=False"
   ]
  },
  {
   "cell_type": "code",
   "execution_count": 75,
   "metadata": {},
   "outputs": [
    {
     "name": "stdout",
     "output_type": "stream",
     "text": [
      "Train on 25000 samples, validate on 10000 samples\n",
      "Epoch 1/20\n",
      "25000/25000 [==============================] - 2s 96us/step - loss: 0.7066 - acc: 0.6281 - val_loss: 0.9267 - val_acc: 0.5683\n",
      "Epoch 2/20\n",
      "25000/25000 [==============================] - 2s 85us/step - loss: 0.6168 - acc: 0.6999 - val_loss: 0.7735 - val_acc: 0.6339\n",
      "Epoch 3/20\n",
      "25000/25000 [==============================] - 2s 85us/step - loss: 0.5941 - acc: 0.7211 - val_loss: 0.6138 - val_acc: 0.7066\n",
      "Epoch 4/20\n",
      "25000/25000 [==============================] - 2s 85us/step - loss: 0.5749 - acc: 0.7366 - val_loss: 0.5868 - val_acc: 0.7229\n",
      "Epoch 5/20\n",
      "25000/25000 [==============================] - 2s 87us/step - loss: 0.5638 - acc: 0.7422 - val_loss: 0.6242 - val_acc: 0.7133\n",
      "Epoch 6/20\n",
      "25000/25000 [==============================] - 2s 88us/step - loss: 0.5731 - acc: 0.7418 - val_loss: 0.7582 - val_acc: 0.6765\n",
      "Epoch 7/20\n",
      "25000/25000 [==============================] - 2s 86us/step - loss: 0.5704 - acc: 0.7459 - val_loss: 0.6380 - val_acc: 0.7089\n",
      "Epoch 8/20\n",
      "25000/25000 [==============================] - 2s 89us/step - loss: 0.5669 - acc: 0.7504 - val_loss: 0.5886 - val_acc: 0.7262\n",
      "Epoch 9/20\n",
      "25000/25000 [==============================] - 2s 86us/step - loss: 0.5572 - acc: 0.7527 - val_loss: 0.6293 - val_acc: 0.7155\n",
      "Epoch 10/20\n",
      "25000/25000 [==============================] - 2s 85us/step - loss: 0.5713 - acc: 0.7496 - val_loss: 0.6915 - val_acc: 0.6972\n",
      "Epoch 11/20\n",
      "25000/25000 [==============================] - 2s 86us/step - loss: 0.5706 - acc: 0.7540 - val_loss: 0.6109 - val_acc: 0.7246\n",
      "Epoch 12/20\n",
      "25000/25000 [==============================] - 2s 85us/step - loss: 0.5659 - acc: 0.7516 - val_loss: 0.7061 - val_acc: 0.6967\n",
      "Epoch 13/20\n",
      "25000/25000 [==============================] - 2s 87us/step - loss: 0.5652 - acc: 0.7545 - val_loss: 0.6175 - val_acc: 0.7230\n",
      "Epoch 14/20\n",
      "25000/25000 [==============================] - 2s 87us/step - loss: 0.5680 - acc: 0.7545 - val_loss: 0.8063 - val_acc: 0.6745\n",
      "Epoch 15/20\n",
      "25000/25000 [==============================] - 2s 85us/step - loss: 0.5707 - acc: 0.7525 - val_loss: 0.6243 - val_acc: 0.7229\n",
      "Epoch 16/20\n",
      "25000/25000 [==============================] - 2s 86us/step - loss: 0.5633 - acc: 0.7542 - val_loss: 0.6164 - val_acc: 0.7228\n",
      "Epoch 17/20\n",
      "25000/25000 [==============================] - 2s 86us/step - loss: 0.5598 - acc: 0.7572 - val_loss: 0.6626 - val_acc: 0.7093\n",
      "Epoch 18/20\n",
      "25000/25000 [==============================] - 2s 85us/step - loss: 0.5698 - acc: 0.7535 - val_loss: 0.7536 - val_acc: 0.6921\n",
      "Epoch 19/20\n",
      "25000/25000 [==============================] - 2s 86us/step - loss: 0.5708 - acc: 0.7547 - val_loss: 0.6105 - val_acc: 0.7273\n",
      "Epoch 20/20\n",
      "25000/25000 [==============================] - 2s 87us/step - loss: 0.5631 - acc: 0.7588 - val_loss: 0.7313 - val_acc: 0.6928\n"
     ]
    }
   ],
   "source": [
    "model_gl.compile(optimizer='rmsprop',loss='binary_crossentropy',metrics=['acc'])\n",
    "gl_result=model_gl.fit(x_train,y_train,epochs=20,batch_size=32,validation_data=(x_val,y_val)) \n",
    "model_gl.save_weights('C:/Users/ysp/Desktop/딥러닝 프로그램/glove_model.h5')                 "
   ]
  },
  {
   "cell_type": "code",
   "execution_count": 76,
   "metadata": {},
   "outputs": [
    {
     "data": {
      "image/png": "[encoded data removed]",
      "text/plain": [
       "<Figure size 432x288 with 1 Axes>"
      ]
     },
     "metadata": {
      "needs_background": "light"
     },
     "output_type": "display_data"
    },
    {
     "data": {
      "image/png": "[encoded data removed]",
      "text/plain": [
       "<Figure size 432x288 with 1 Axes>"
      ]
     },
     "metadata": {
      "needs_background": "light"
     },
     "output_type": "display_data"
    }
   ],
   "source": [
    "import matplotlib.pyplot as plt\n",
    "acc=gl_result.history['acc']\n",
    "val_acc=gl_result.history['val_acc']\n",
    "loss=gl_result.history['loss']\n",
    "val_loss=gl_result.history['val_loss']\n",
    "epochs=range(1,len(acc)+1)\n",
    "plt.plot(epochs,acc,'b',label='training acc')\n",
    "plt.plot(epochs,val_acc,'bo',label='validation acc')\n",
    "plt.title('training and validation accuracy')\n",
    "plt.legend()\n",
    "plt.figure()\n",
    "plt.plot(epochs,loss,'b',label='training loss')\n",
    "plt.plot(epochs,val_loss,'bo',label='validation loss')\n",
    "plt.title('training and validation loss')\n",
    "plt.legend()\n",
    "plt.show()"
   ]
  },
  {
   "cell_type": "code",
   "execution_count": 77,
   "metadata": {},
   "outputs": [
    {
     "name": "stdout",
     "output_type": "stream",
     "text": [
      "15000/15000 [==============================] - 1s 35us/step\n",
      "0.7352235678990682\n",
      "0.6937999725341797\n"
     ]
    }
   ],
   "source": [
    "loss,acc=model_gl.evaluate(x_test,y_test)\n",
    "print(loss)\n",
    "print(acc)"
   ]
  },
  {
   "cell_type": "code",
   "execution_count": null,
   "metadata": {},
   "outputs": [],
   "source": []
  }
 ],
 "metadata": {
  "kernelspec": {
   "display_name": "Python 3",
   "language": "python",
   "name": "python3"
  },
  "language_info": {
   "codemirror_mode": {
    "name": "ipython",
    "version": 3
   },
   "file_extension": ".py",
   "mimetype": "text/x-python",
   "name": "python",
   "nbconvert_exporter": "python",
   "pygments_lexer": "ipython3",
   "version": "3.7.4"
  }
 },
 "nbformat": 4,
 "nbformat_minor": 4
}
