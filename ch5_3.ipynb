{
 "cells": [
  {
   "cell_type": "code",
   "execution_count": 4,
   "metadata": {},
   "outputs": [],
   "source": [
    "import os, shutil\n",
    "original_data_dir='C:/Users/ysp/Desktop/Deep Learning/all_dogs_cats'\n",
    "base_dir='C:/Users/ysp/Desktop/Deep Learning/dogs and cats_small1'# original_data_dir로부터 일부 데이터를 추출하여 base_dir에 저장하기 위해 만듬\n",
    "os.mkdir(base_dir)\n",
    "train_dir=os.path.join(base_dir,'train')#dog_cats_small폴더내에 train폴더 생성\n",
    "os.mkdir(train_dir)\n",
    "validation_dir=os.path.join(base_dir,'validation')#dog_cats_small폴더내에 validation폴더 생성\n",
    "os.mkdir(validation_dir)\n",
    "test_dir=os.path.join(base_dir,'test')#dog_cats_small폴더내에 test폴더 생성\n",
    "os.mkdir(test_dir)\n",
    "\n",
    "train_cats_dir=os.path.join(train_dir,'cats')#train폴더내에 cats폴더 생성\n",
    "os.mkdir(train_cats_dir)\n",
    "train_dogs_dir=os.path.join(train_dir,'dogs')#train폴더내에 dogs폴더 생성\n",
    "os.mkdir(train_dogs_dir)\n",
    "validation_cats_dir=os.path.join(validation_dir,'cats')#validation폴더내에 cats폴더 생성\n",
    "os.mkdir(validation_cats_dir)\n",
    "validation_dogs_dir=os.path.join(validation_dir,'dogs')#validation폴더내에 dogs폴더 생성\n",
    "os.mkdir(validation_dogs_dir)\n",
    "test_cats_dir=os.path.join(test_dir,'cats')#test폴더내에 cats폴더 생성\n",
    "os.mkdir(test_cats_dir)\n",
    "test_dogs_dir=os.path.join(test_dir,'dogs')#test폴더내에 dogs폴더 생성\n",
    "os.mkdir(test_dogs_dir)"
   ]
  },
  {
   "cell_type": "code",
   "execution_count": 5,
   "metadata": {},
   "outputs": [
    {
     "name": "stdout",
     "output_type": "stream",
     "text": [
      "1000\n",
      "1000\n",
      "500\n",
      "500\n",
      "500\n",
      "500\n"
     ]
    }
   ],
   "source": [
    "fnames=['cat.{}.jpg'.format(i) for i in range(1000)]\n",
    "for fname in fnames:     # original_dat_dir에 있는 1000개의 고양이 이미지를 train_cats_dir에 copy\n",
    "    src=os.path.join(original_data_dir,fname)\n",
    "    dst=os.path.join(train_cats_dir,fname)\n",
    "    shutil.copyfile(src,dst)\n",
    "fnames=['cat.{}.jpg'.format(i) for i in range(1000,1500)]\n",
    "for fname in fnames:     # original_dat_dir에 있는 500개의 고양이 이미지를 validatio_cats_dir에 copy\n",
    "    src=os.path.join(original_data_dir,fname)\n",
    "    dst=os.path.join(validation_cats_dir,fname)\n",
    "    shutil.copyfile(src,dst)\n",
    "fnames=['cat.{}.jpg'.format(i) for i in range(1500,2000)]\n",
    "for fname in fnames:     # original_dat_dir에 있는 500개의 고양이 이미지를 test_cats_dir에 copy\n",
    "    src=os.path.join(original_data_dir,fname)\n",
    "    dst=os.path.join(test_cats_dir,fname)\n",
    "    shutil.copyfile(src,dst)\n",
    "    \n",
    "fnames=['dog.{}.jpg'.format(i) for i in range(1000)]\n",
    "for fname in fnames:     # original_dat_dir에 있는 1000개의 개 이미지를 train_dogs_dir에 copy\n",
    "    src=os.path.join(original_data_dir,fname)\n",
    "    dst=os.path.join(train_dogs_dir,fname)\n",
    "    shutil.copyfile(src,dst)\n",
    "fnames=['dog.{}.jpg'.format(i) for i in range(1000,1500)]\n",
    "for fname in fnames:     # original_dat_dir에 있는 500개의 개 이미지를 validatio_dogs_dir에 copy\n",
    "    src=os.path.join(original_data_dir,fname)\n",
    "    dst=os.path.join(validation_dogs_dir,fname)\n",
    "    shutil.copyfile(src,dst)\n",
    "fnames=['dog.{}.jpg'.format(i) for i in range(1500,2000)]\n",
    "for fname in fnames:     # original_dat_dir에 있는 500개의 개 이미지를 test_dogs_dir에 copy\n",
    "    src=os.path.join(original_data_dir,fname)\n",
    "    dst=os.path.join(test_dogs_dir,fname)\n",
    "    shutil.copyfile(src,dst)\n",
    "\n",
    "    \n",
    "print(len(os.listdir(train_cats_dir)));print(len(os.listdir(train_dogs_dir)))\n",
    "print(len(os.listdir(validation_cats_dir)));print(len(os.listdir(validation_dogs_dir)))\n",
    "print(len(os.listdir(test_cats_dir)));print(len(os.listdir(test_dogs_dir)))"
   ]
  },
  {
   "cell_type": "code",
   "execution_count": 7,
   "metadata": {},
   "outputs": [
    {
     "name": "stdout",
     "output_type": "stream",
     "text": [
      "Found 2000 images belonging to 2 classes.\n",
      "Found 1000 images belonging to 2 classes.\n",
      "(20, 150, 150, 3)\n",
      "(20,)\n"
     ]
    }
   ],
   "source": [
    "from keras.preprocessing.image import ImageDataGenerator\n",
    "train_datagen=ImageDataGenerator(rescale=1./255) \n",
    "test_datagen=ImageDataGenerator(rescale=1./255)\n",
    "train_generator=train_datagen.flow_from_directory(directory=train_dir,target_size=(150,150),batch_size=20,class_mode='binary')\n",
    "validation_generator=test_datagen.flow_from_directory(directory=validation_dir,target_size=(150,150),batch_size=20,class_mode='binary')\n",
    "\n",
    "for x,y in train_generator:\n",
    "    print(x.shape)\n",
    "    print(y.shape)\n",
    "    break"
   ]
  },
  {
   "cell_type": "code",
   "execution_count": 8,
   "metadata": {},
   "outputs": [
    {
     "name": "stdout",
     "output_type": "stream",
     "text": [
      "Model: \"sequential_1\"\n",
      "_________________________________________________________________\n",
      "Layer (type)                 Output Shape              Param #   \n",
      "=================================================================\n",
      "conv2d_1 (Conv2D)            (None, 148, 148, 32)      896       \n",
      "_________________________________________________________________\n",
      "max_pooling2d_1 (MaxPooling2 (None, 74, 74, 32)        0         \n",
      "_________________________________________________________________\n",
      "conv2d_2 (Conv2D)            (None, 72, 72, 64)        18496     \n",
      "_________________________________________________________________\n",
      "max_pooling2d_2 (MaxPooling2 (None, 36, 36, 64)        0         \n",
      "_________________________________________________________________\n",
      "conv2d_3 (Conv2D)            (None, 34, 34, 128)       73856     \n",
      "_________________________________________________________________\n",
      "max_pooling2d_3 (MaxPooling2 (None, 17, 17, 128)       0         \n",
      "_________________________________________________________________\n",
      "flatten_1 (Flatten)          (None, 36992)             0         \n",
      "_________________________________________________________________\n",
      "dense_1 (Dense)              (None, 512)               18940416  \n",
      "_________________________________________________________________\n",
      "dense_2 (Dense)              (None, 1)                 513       \n",
      "=================================================================\n",
      "Total params: 19,034,177\n",
      "Trainable params: 19,034,177\n",
      "Non-trainable params: 0\n",
      "_________________________________________________________________\n"
     ]
    }
   ],
   "source": [
    "from keras.layers import Conv2D,MaxPooling2D,Flatten,Dense\n",
    "from keras import models\n",
    "cat_dog_model=models.Sequential()\n",
    "#train_generator에서 target_size=(150,150)으로 하였고 color_mode의 default는 'rgb'이므로 input_shape=(150,150,3)으로 지정함\n",
    "cat_dog_model.add(Conv2D(32,(3,3),activation='relu',input_shape=(150,150,3)))\n",
    "cat_dog_model.add(MaxPooling2D(2,2))\n",
    "cat_dog_model.add(Conv2D(64,(3,3),activation='relu'))\n",
    "cat_dog_model.add(MaxPooling2D(2,2))\n",
    "cat_dog_model.add(Conv2D(128,(3,3),activation='relu'))\n",
    "cat_dog_model.add(MaxPooling2D(2,2))\n",
    "cat_dog_model.add(Flatten())\n",
    "cat_dog_model.add(Dense(512,activation='relu'))\n",
    "cat_dog_model.add(Dense(1,activation='sigmoid'))\n",
    "cat_dog_model.summary()"
   ]
  },
  {
   "cell_type": "code",
   "execution_count": 9,
   "metadata": {},
   "outputs": [],
   "source": [
    "from keras import optimizers\n",
    "opt=optimizers.RMSprop(lr=1e-4)\n",
    "cat_dog_model.compile(loss='binary_crossentropy', optimizer=opt,metrics=['acc'])"
   ]
  },
  {
   "cell_type": "code",
   "execution_count": 10,
   "metadata": {},
   "outputs": [
    {
     "name": "stdout",
     "output_type": "stream",
     "text": [
      "Epoch 1/10\n",
      "100/100 [==============================] - 30s 298ms/step - loss: 0.7056 - acc: 0.5320 - val_loss: 0.7175 - val_acc: 0.5780\n",
      "Epoch 2/10\n",
      "100/100 [==============================] - 30s 296ms/step - loss: 0.6540 - acc: 0.6165 - val_loss: 0.6580 - val_acc: 0.6400\n",
      "Epoch 3/10\n",
      "100/100 [==============================] - 30s 297ms/step - loss: 0.5924 - acc: 0.7000 - val_loss: 0.5469 - val_acc: 0.6770\n",
      "Epoch 4/10\n",
      "100/100 [==============================] - 30s 299ms/step - loss: 0.5459 - acc: 0.7335 - val_loss: 0.6217 - val_acc: 0.6920\n",
      "Epoch 5/10\n",
      "100/100 [==============================] - 30s 302ms/step - loss: 0.4966 - acc: 0.7715 - val_loss: 0.7960 - val_acc: 0.6710\n",
      "Epoch 6/10\n",
      "100/100 [==============================] - 30s 297ms/step - loss: 0.4683 - acc: 0.7805 - val_loss: 0.4961 - val_acc: 0.6970\n",
      "Epoch 7/10\n",
      "100/100 [==============================] - 30s 297ms/step - loss: 0.4306 - acc: 0.8050 - val_loss: 0.5171 - val_acc: 0.6970\n",
      "Epoch 8/10\n",
      "100/100 [==============================] - 30s 297ms/step - loss: 0.3913 - acc: 0.8280 - val_loss: 0.4473 - val_acc: 0.7060\n",
      "Epoch 9/10\n",
      "100/100 [==============================] - 30s 299ms/step - loss: 0.3672 - acc: 0.8395 - val_loss: 0.3237 - val_acc: 0.7100\n",
      "Epoch 10/10\n",
      "100/100 [==============================] - 30s 303ms/step - loss: 0.3261 - acc: 0.8560 - val_loss: 0.5773 - val_acc: 0.6960\n"
     ]
    }
   ],
   "source": [
    "cat_dog_result=cat_dog_model.fit_generator(train_generator,steps_per_epoch=100,epochs=10,validation_data=validation_generator,validation_steps=50)"
   ]
  },
  {
   "cell_type": "code",
   "execution_count": 13,
   "metadata": {},
   "outputs": [
    {
     "data": {
      "image/png": "[encoded data removed]",
      "text/plain": [
       "<Figure size 432x288 with 1 Axes>"
      ]
     },
     "metadata": {
      "needs_background": "light"
     },
     "output_type": "display_data"
    },
    {
     "data": {
      "image/png": "[encoded data removed]",
      "text/plain": [
       "<Figure size 432x288 with 1 Axes>"
      ]
     },
     "metadata": {
      "needs_background": "light"
     },
     "output_type": "display_data"
    }
   ],
   "source": [
    "import matplotlib.pyplot as plt\n",
    "acc=cat_dog_result.history['acc']\n",
    "val_acc=cat_dog_result.history['val_acc']\n",
    "loss=cat_dog_result.history['loss']\n",
    "val_loss=cat_dog_result.history['val_loss']\n",
    "epochs=range(1,len(acc)+1)\n",
    "plt.plot(epochs,acc,'b',label='training acc')\n",
    "plt.plot(epochs,val_acc,'bo',label='validation acc')\n",
    "plt.title('training and validation accuracy')\n",
    "plt.legend()\n",
    "plt.figure()\n",
    "plt.plot(epochs,loss,'b',label='training loss')\n",
    "plt.plot(epochs,val_loss,'bo',label='validation loss')\n",
    "plt.title('training and validation loss')\n",
    "plt.legend()\n",
    "plt.show()"
   ]
  },
  {
   "cell_type": "code",
   "execution_count": 20,
   "metadata": {},
   "outputs": [],
   "source": [
    "from keras.layers import Conv2D,MaxPooling2D,Flatten,Dense\n",
    "from keras import models\n",
    "cat_dog_model1=models.Sequential()\n",
    "#train_generator에서 target_size=(150,150)으로 하였고 color_mode의 default는 'rgb'이므로 input_shape=(150,150,3)으로 지정함\n",
    "cat_dog_model1.add(Conv2D(32,(3,3),activation='relu',input_shape=(150,150,3)))\n",
    "cat_dog_model1.add(MaxPooling2D(2,2))\n",
    "cat_dog_model1.add(Conv2D(64,(3,3),activation='relu'))\n",
    "cat_dog_model1.add(MaxPooling2D(2,2))\n",
    "cat_dog_model1.add(Conv2D(128,(3,3),activation='relu'))\n",
    "cat_dog_model1.add(MaxPooling2D(2,2))\n",
    "cat_dog_model1.add(Flatten())\n",
    "cat_dog_model1.add(Dense(32,activation='relu'))\n",
    "cat_dog_model1.add(Dense(1,activation='sigmoid'))\n"
   ]
  },
  {
   "cell_type": "code",
   "execution_count": 21,
   "metadata": {},
   "outputs": [
    {
     "name": "stdout",
     "output_type": "stream",
     "text": [
      "Epoch 1/10\n",
      "100/100 [==============================] - 38s 379ms/step - loss: 0.6896 - acc: 0.5202 - val_loss: 0.6947 - val_acc: 0.5425\n",
      "Epoch 2/10\n",
      "100/100 [==============================] - 37s 373ms/step - loss: 0.6734 - acc: 0.5688 - val_loss: 0.6750 - val_acc: 0.5973\n",
      "Epoch 3/10\n",
      "100/100 [==============================] - 37s 369ms/step - loss: 0.6536 - acc: 0.6001 - val_loss: 0.6092 - val_acc: 0.6275\n",
      "Epoch 4/10\n",
      "100/100 [==============================] - 38s 383ms/step - loss: 0.6351 - acc: 0.6338 - val_loss: 0.6072 - val_acc: 0.6347\n",
      "Epoch 5/10\n",
      "100/100 [==============================] - 37s 368ms/step - loss: 0.6228 - acc: 0.6550 - val_loss: 0.5864 - val_acc: 0.6218\n",
      "Epoch 6/10\n",
      "100/100 [==============================] - 39s 392ms/step - loss: 0.6041 - acc: 0.6731 - val_loss: 0.5712 - val_acc: 0.6546\n",
      "Epoch 7/10\n",
      "100/100 [==============================] - 37s 373ms/step - loss: 0.5979 - acc: 0.6758 - val_loss: 0.6136 - val_acc: 0.6358\n",
      "Epoch 8/10\n",
      "100/100 [==============================] - 38s 382ms/step - loss: 0.5869 - acc: 0.6834 - val_loss: 0.5766 - val_acc: 0.6392\n",
      "Epoch 9/10\n",
      "100/100 [==============================] - 38s 377ms/step - loss: 0.5856 - acc: 0.6856 - val_loss: 0.5749 - val_acc: 0.6778\n",
      "Epoch 10/10\n",
      "100/100 [==============================] - 37s 371ms/step - loss: 0.5810 - acc: 0.6910 - val_loss: 0.4594 - val_acc: 0.6923\n"
     ]
    }
   ],
   "source": [
    "from keras import optimizers\n",
    "opt=optimizers.RMSprop(lr=1e-4)\n",
    "cat_dog_model1.compile(loss='binary_crossentropy', optimizer=opt,metrics=['acc'])\n",
    "\n",
    "cat_dog_result1=cat_dog_model1.fit_generator(train_generator,steps_per_epoch=100,epochs=10,validation_data=validation_generator,validation_steps=50)"
   ]
  },
  {
   "cell_type": "code",
   "execution_count": 22,
   "metadata": {},
   "outputs": [
    {
     "data": {
      "image/png": "[encoded data removed]",
      "text/plain": [
       "<Figure size 432x288 with 1 Axes>"
      ]
     },
     "metadata": {
      "needs_background": "light"
     },
     "output_type": "display_data"
    },
    {
     "data": {
      "image/png": "[encoded data removed]",
      "text/plain": [
       "<Figure size 432x288 with 1 Axes>"
      ]
     },
     "metadata": {
      "needs_background": "light"
     },
     "output_type": "display_data"
    }
   ],
   "source": [
    "import matplotlib.pyplot as plt\n",
    "acc=cat_dog_result1.history['acc']\n",
    "val_acc=cat_dog_result1.history['val_acc']\n",
    "loss=cat_dog_result1.history['loss']\n",
    "val_loss=cat_dog_result1.history['val_loss']\n",
    "epochs=range(1,len(acc)+1)\n",
    "plt.plot(epochs,acc,'b',label='training acc')\n",
    "plt.plot(epochs,val_acc,'bo',label='validation acc')\n",
    "plt.title('training and validation accuracy')\n",
    "plt.legend()\n",
    "plt.figure()\n",
    "plt.plot(epochs,loss,'b',label='training loss')\n",
    "plt.plot(epochs,val_loss,'bo',label='validation loss')\n",
    "plt.title('training and validation loss')\n",
    "plt.legend()\n",
    "plt.show()"
   ]
  },
  {
   "cell_type": "code",
   "execution_count": 12,
   "metadata": {},
   "outputs": [
    {
     "name": "stdout",
     "output_type": "stream",
     "text": [
      "Found 2000 images belonging to 2 classes.\n",
      "Found 1000 images belonging to 2 classes.\n"
     ]
    }
   ],
   "source": [
    "train_datagen=ImageDataGenerator(rescale=1./255,rotation_range=40, width_shift_range=0.2,\n",
    "                               height_shift_range=0.2, shear_range=0.2, zoom_range=0.2,\n",
    "                                horizontal_flip=True, fill_mode='nearest')\n",
    "validation_datagen=ImageDataGenerator(rescale=1./255)\n",
    "train_generator=train_datagen.flow_from_directory(train_dir,target_size=(150,150),\n",
    "                                              batch_size=32, class_mode='binary')\n",
    "validation_generator=train_datagen.flow_from_directory(validation_dir,target_size=(150,150),\n",
    "                                              batch_size=32, class_mode='binary')"
   ]
  },
  {
   "cell_type": "code",
   "execution_count": 33,
   "metadata": {},
   "outputs": [
    {
     "name": "stdout",
     "output_type": "stream",
     "text": [
      "Model: \"sequential_5\"\n",
      "_________________________________________________________________\n",
      "Layer (type)                 Output Shape              Param #   \n",
      "=================================================================\n",
      "conv2d_13 (Conv2D)           (None, 148, 148, 32)      896       \n",
      "_________________________________________________________________\n",
      "max_pooling2d_13 (MaxPooling (None, 74, 74, 32)        0         \n",
      "_________________________________________________________________\n",
      "conv2d_14 (Conv2D)           (None, 72, 72, 64)        18496     \n",
      "_________________________________________________________________\n",
      "max_pooling2d_14 (MaxPooling (None, 36, 36, 64)        0         \n",
      "_________________________________________________________________\n",
      "conv2d_15 (Conv2D)           (None, 34, 34, 128)       73856     \n",
      "_________________________________________________________________\n",
      "max_pooling2d_15 (MaxPooling (None, 17, 17, 128)       0         \n",
      "_________________________________________________________________\n",
      "flatten_5 (Flatten)          (None, 36992)             0         \n",
      "_________________________________________________________________\n",
      "dropout_2 (Dropout)          (None, 36992)             0         \n",
      "_________________________________________________________________\n",
      "dense_9 (Dense)              (None, 512)               18940416  \n",
      "_________________________________________________________________\n",
      "dense_10 (Dense)             (None, 1)                 513       \n",
      "=================================================================\n",
      "Total params: 19,034,177\n",
      "Trainable params: 19,034,177\n",
      "Non-trainable params: 0\n",
      "_________________________________________________________________\n"
     ]
    }
   ],
   "source": [
    "from keras.layers import Conv2D,MaxPooling2D,Flatten,Dense, Dropout\n",
    "from keras import models\n",
    "aug_model=models.Sequential()\n",
    "aug_model.add(Conv2D(32,(3,3),activation='relu',input_shape=(150,150,3)))\n",
    "aug_model.add(MaxPooling2D(2,2))\n",
    "aug_model.add(Conv2D(64,(3,3),activation='relu'))\n",
    "aug_model.add(MaxPooling2D(2,2))\n",
    "aug_model.add(Conv2D(128,(3,3),activation='relu'))\n",
    "aug_model.add(MaxPooling2D(2,2))\n",
    "aug_model.add(Flatten())\n",
    "aug_model.add(Dropout(0.5))\n",
    "aug_model.add(Dense(512,activation='relu'))\n",
    "aug_model.add(Dense(1,activation='sigmoid'))\n",
    "aug_model.summary()"
   ]
  },
  {
   "cell_type": "code",
   "execution_count": 34,
   "metadata": {},
   "outputs": [
    {
     "name": "stdout",
     "output_type": "stream",
     "text": [
      "Epoch 1/10\n",
      "100/100 [==============================] - 40s 398ms/step - loss: 0.3934 - acc: 0.8251 - val_loss: 0.4480 - val_acc: 0.7762\n",
      "Epoch 2/10\n",
      "100/100 [==============================] - 41s 406ms/step - loss: 0.3969 - acc: 0.8176 - val_loss: 1.0067 - val_acc: 0.7428\n",
      "Epoch 3/10\n",
      "100/100 [==============================] - 40s 403ms/step - loss: 0.3996 - acc: 0.8144 - val_loss: 0.4424 - val_acc: 0.7448\n",
      "Epoch 4/10\n",
      "100/100 [==============================] - 40s 404ms/step - loss: 0.3955 - acc: 0.8163 - val_loss: 0.5444 - val_acc: 0.7448\n",
      "Epoch 5/10\n",
      "100/100 [==============================] - 40s 403ms/step - loss: 0.3879 - acc: 0.8147 - val_loss: 0.4324 - val_acc: 0.7407\n",
      "Epoch 6/10\n",
      "100/100 [==============================] - 41s 408ms/step - loss: 0.3896 - acc: 0.8185 - val_loss: 0.8110 - val_acc: 0.7521\n",
      "Epoch 7/10\n",
      "100/100 [==============================] - 40s 400ms/step - loss: 0.3922 - acc: 0.8271 - val_loss: 0.4573 - val_acc: 0.7314\n",
      "Epoch 8/10\n",
      "100/100 [==============================] - 40s 400ms/step - loss: 0.3835 - acc: 0.8300 - val_loss: 0.8059 - val_acc: 0.7490\n",
      "Epoch 9/10\n",
      "100/100 [==============================] - 40s 400ms/step - loss: 0.3936 - acc: 0.8217 - val_loss: 0.5135 - val_acc: 0.7624\n",
      "Epoch 10/10\n",
      "100/100 [==============================] - 40s 398ms/step - loss: 0.3832 - acc: 0.8301 - val_loss: 0.4607 - val_acc: 0.7789\n"
     ]
    }
   ],
   "source": [
    "from keras import optimizers\n",
    "aug_model.compile(loss='binary_crossentropy', optimizer=optimizers.RMSprop(lr=1e-4),metrics=['acc'])\n",
    "aug_result=cat_dog_model.fit_generator(train_generator,steps_per_epoch=100,epochs=10,validation_data=validation_generator,validation_steps=31)"
   ]
  },
  {
   "cell_type": "code",
   "execution_count": 39,
   "metadata": {},
   "outputs": [
    {
     "data": {
      "image/png": "[encoded data removed]",
      "text/plain": [
       "<Figure size 432x288 with 1 Axes>"
      ]
     },
     "metadata": {
      "needs_background": "light"
     },
     "output_type": "display_data"
    },
    {
     "data": {
      "image/png": "[encoded data removed]",
      "text/plain": [
       "<Figure size 432x288 with 1 Axes>"
      ]
     },
     "metadata": {
      "needs_background": "light"
     },
     "output_type": "display_data"
    }
   ],
   "source": [
    "import matplotlib.pyplot as plt\n",
    "acc=aug_result.history['acc']\n",
    "val_acc=aug_result.history['val_acc']\n",
    "loss=aug_result.history['loss']\n",
    "val_loss=aug_result.history['val_loss']\n",
    "epochs=range(1,len(acc)+1)\n",
    "plt.plot(epochs,acc,'b',label='training acc')\n",
    "plt.plot(epochs,val_acc,'bo',label='validation acc')\n",
    "plt.title('training and validation accuracy')\n",
    "plt.legend()\n",
    "plt.figure()\n",
    "plt.plot(epochs,loss,'b',label='training loss')\n",
    "plt.plot(epochs,val_loss,'bo',label='validation loss')\n",
    "plt.title('training and validation loss')\n",
    "plt.legend()\n",
    "plt.show()"
   ]
  },
  {
   "cell_type": "code",
   "execution_count": null,
   "metadata": {},
   "outputs": [],
   "source": []
  }
 ],
 "metadata": {
  "kernelspec": {
   "display_name": "Python 3",
   "language": "python",
   "name": "python3"
  },
  "language_info": {
   "codemirror_mode": {
    "name": "ipython",
    "version": 3
   },
   "file_extension": ".py",
   "mimetype": "text/x-python",
   "name": "python",
   "nbconvert_exporter": "python",
   "pygments_lexer": "ipython3",
   "version": "3.7.4"
  }
 },
 "nbformat": 4,
 "nbformat_minor": 4
}
