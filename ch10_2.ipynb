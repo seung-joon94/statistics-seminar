{
 "cells": [
  {
   "cell_type": "code",
   "execution_count": 1,
   "metadata": {
    "colab": {
     "base_uri": "https://localhost:8080/",
     "height": 34
    },
    "colab_type": "code",
    "id": "YbZpxcZfN8oE",
    "outputId": "f413d42f-fca3-4a26-a2a7-457ff3092292"
   },
   "outputs": [
    {
     "name": "stderr",
     "output_type": "stream",
     "text": [
      "Using TensorFlow backend.\n"
     ]
    }
   ],
   "source": [
    "import pandas as pd\n",
    "import numpy as np\n",
    "import string"
   ]
  },
  {
   "cell_type": "code",
   "execution_count": 2,
   "metadata": {
    "colab": {
     "base_uri": "https://localhost:8080/",
     "height": 51
    },
    "colab_type": "code",
    "id": "ATqji5eL4W4U",
    "outputId": "507f45a5-22c9-4119-9100-bc0ba0780958"
   },
   "outputs": [],
   "source": [
    "lines= pd.read_table('C:/Users/ysp/Desktop/Deep Learning/english to french.txt', names=['eng', 'fr'])"
   ]
  },
  {
   "cell_type": "code",
   "execution_count": 3,
   "metadata": {
    "colab": {},
    "colab_type": "code",
    "id": "F_qXu5VX4XIp"
   },
   "outputs": [
    {
     "name": "stdout",
     "output_type": "stream",
     "text": [
      "    eng        fr\n",
      "0   Go.      Va !\n",
      "1  Run!   Cours !\n",
      "2  Run!  Courez !\n",
      "                            eng                              fr\n",
      "49997  They go to work on foot.     Ils vont au travail à pied.\n",
      "49998  They got into the train.    Ils montèrent dans le train.\n",
      "49999  They got into the train.  Elles montèrent dans le train.\n"
     ]
    }
   ],
   "source": [
    "lines = lines[0:50000]\n",
    "print(lines.head(3))\n",
    "print(lines.tail(3))"
   ]
  },
  {
   "cell_type": "code",
   "execution_count": 4,
   "metadata": {
    "colab": {},
    "colab_type": "code",
    "id": "NkdgGL404XGc"
   },
   "outputs": [],
   "source": [
    "lines['eng']=lines['eng'].apply(lambda x: x.lower())\n",
    "lines['fr']=lines['fr'].apply(lambda x: x.lower())"
   ]
  },
  {
   "cell_type": "code",
   "execution_count": 5,
   "metadata": {
    "colab": {},
    "colab_type": "code",
    "id": "gOkzFxTe4fhL"
   },
   "outputs": [],
   "source": [
    "exclude = set(string.punctuation)\n",
    "lines.eng=lines.eng.apply(lambda x: ''.join(ch for ch in x if ch not in exclude))\n",
    "lines.fr=lines.fr.apply(lambda x: ''.join(ch for ch in x if ch not in exclude))"
   ]
  },
  {
   "cell_type": "code",
   "execution_count": 6,
   "metadata": {
    "colab": {
     "base_uri": "https://localhost:8080/",
     "height": 204
    },
    "colab_type": "code",
    "id": "tzfDq12jOeZD",
    "outputId": "ff9515af-b9c5-4ebe-a62d-26bab4e83e6d"
   },
   "outputs": [
    {
     "name": "stdout",
     "output_type": "stream",
     "text": [
      "   eng       fr\n",
      "0   go      va \n",
      "1  run   cours \n",
      "2  run  courez \n",
      "                           eng                             fr\n",
      "49997  they go to work on foot     ils vont au travail à pied\n",
      "49998  they got into the train    ils montèrent dans le train\n",
      "49999  they got into the train  elles montèrent dans le train\n"
     ]
    }
   ],
   "source": [
    "print(lines.head(3))\n",
    "print(lines.tail(3))"
   ]
  },
  {
   "cell_type": "code",
   "execution_count": 7,
   "metadata": {
    "colab": {},
    "colab_type": "code",
    "id": "2tVHM-oR4fpm"
   },
   "outputs": [],
   "source": [
    "lines.fr = lines.fr.apply(lambda x : 'start '+ x + ' end')"
   ]
  },
  {
   "cell_type": "code",
   "execution_count": 8,
   "metadata": {
    "colab": {
     "base_uri": "https://localhost:8080/",
     "height": 204
    },
    "colab_type": "code",
    "id": "2D_AMqsdndne",
    "outputId": "cb4eacbf-03ca-4005-8461-9766e39b19e6"
   },
   "outputs": [
    {
     "name": "stdout",
     "output_type": "stream",
     "text": [
      "   eng                 fr\n",
      "0   go      start va  end\n",
      "1  run   start cours  end\n",
      "2  run  start courez  end\n",
      "                           eng                                       fr\n",
      "49997  they go to work on foot     start ils vont au travail à pied end\n",
      "49998  they got into the train    start ils montèrent dans le train end\n",
      "49999  they got into the train  start elles montèrent dans le train end\n"
     ]
    }
   ],
   "source": [
    "print(lines.head(3))\n",
    "print(lines.tail(3))"
   ]
  },
  {
   "cell_type": "code",
   "execution_count": 9,
   "metadata": {
    "colab": {
     "base_uri": "https://localhost:8080/",
     "height": 34
    },
    "colab_type": "code",
    "id": "BByeGbi6rx89",
    "outputId": "736ce137-d57a-468b-cb3b-d8b724db8bf1"
   },
   "outputs": [
    {
     "data": {
      "text/plain": [
       "(50000, 2)"
      ]
     },
     "execution_count": 9,
     "metadata": {},
     "output_type": "execute_result"
    }
   ],
   "source": [
    "lines.shape"
   ]
  },
  {
   "cell_type": "code",
   "execution_count": 10,
   "metadata": {
    "colab": {},
    "colab_type": "code",
    "id": "gCXv8Y7G_szR"
   },
   "outputs": [],
   "source": [
    "# fit a tokenizer\n",
    "from keras.preprocessing.text import Tokenizer\n",
    "def create_tokenizer(lines):\n",
    "\ttokenizer = Tokenizer()\n",
    "\ttokenizer.fit_on_texts(lines)\n",
    "\treturn tokenizer"
   ]
  },
  {
   "cell_type": "code",
   "execution_count": 11,
   "metadata": {
    "colab": {},
    "colab_type": "code",
    "id": "4y854XLW_swc"
   },
   "outputs": [],
   "source": [
    "import json\n",
    "eng_tokenizer = create_tokenizer(lines['eng'])\n",
    "eng_dict=json.loads(json.dumps(eng_tokenizer.word_counts))\n",
    "df =pd.DataFrame([eng_dict.keys(), eng_dict.values()]).T\n",
    "df.columns = ['word','count']\n",
    "df = df.sort_values(by='count',ascending = False)\n",
    "df['cum_count']=df['count'].cumsum()\n",
    "df['cum_perc'] = df['cum_count']/df['cum_count'].max()\n",
    "final_eng_words = df[df['cum_perc']<0.8]['word'].values"
   ]
  },
  {
   "cell_type": "code",
   "execution_count": 12,
   "metadata": {
    "colab": {},
    "colab_type": "code",
    "id": "I3OrR4k0AfTX"
   },
   "outputs": [],
   "source": [
    "fr_tokenizer = create_tokenizer(lines['fr'])\n",
    "fr_dict = json.loads(json.dumps(fr_tokenizer.word_counts))\n",
    "df =pd.DataFrame([fr_dict.keys(), fr_dict.values()]).T\n",
    "df.columns = ['word','count']\n",
    "df = df.sort_values(by='count',ascending = False)\n",
    "df['cum_count']=df['count'].cumsum()\n",
    "df['cum_perc'] = df['cum_count']/df['cum_count'].max()\n",
    "final_fr_words = df[df['cum_perc']<0.8]['word'].values"
   ]
  },
  {
   "cell_type": "code",
   "execution_count": 13,
   "metadata": {
    "colab": {
     "base_uri": "https://localhost:8080/",
     "height": 34
    },
    "colab_type": "code",
    "id": "m4jrbgIjAfPd",
    "outputId": "ecd98af9-bb9c-4a93-a864-1eeb6c086e32"
   },
   "outputs": [
    {
     "name": "stdout",
     "output_type": "stream",
     "text": [
      "384 357\n"
     ]
    }
   ],
   "source": [
    "print(len(final_eng_words),len(final_fr_words))"
   ]
  },
  {
   "cell_type": "code",
   "execution_count": 14,
   "metadata": {
    "colab": {},
    "colab_type": "code",
    "id": "mTOesHOq_ss0"
   },
   "outputs": [],
   "source": [
    "def filter_eng_words(x):\n",
    "  t = []\n",
    "  x = x.split()\n",
    "  for i in range(len(x)):\n",
    "    if x[i] in final_eng_words:\n",
    "      t.append(x[i])\n",
    "    else:\n",
    "      t.append('unk')\n",
    "  x3 = ''\n",
    "  for i in range(len(t)):\n",
    "    x3 = x3+t[i]+' '\n",
    "  return x3"
   ]
  },
  {
   "cell_type": "code",
   "execution_count": 15,
   "metadata": {
    "colab": {
     "base_uri": "https://localhost:8080/",
     "height": 34
    },
    "colab_type": "code",
    "id": "djQPLFAml-A3",
    "outputId": "02237d1c-4b04-425e-c2a6-b7fba61183aa"
   },
   "outputs": [
    {
     "data": {
      "text/plain": [
       "'he is unk good '"
      ]
     },
     "execution_count": 15,
     "metadata": {},
     "output_type": "execute_result"
    }
   ],
   "source": [
    "filter_eng_words('he is extremely good')"
   ]
  },
  {
   "cell_type": "code",
   "execution_count": 16,
   "metadata": {
    "colab": {},
    "colab_type": "code",
    "id": "e7sUkiqGBDJd"
   },
   "outputs": [],
   "source": [
    "def filter_fr_words(x):\n",
    "  t = []\n",
    "  x = x.split()\n",
    "  for i in range(len(x)):\n",
    "    if x[i] in final_fr_words:\n",
    "      t.append(x[i])\n",
    "    else:\n",
    "      t.append('unk')\n",
    "  x3 = ''\n",
    "  for i in range(len(t)):\n",
    "    x3 = x3+t[i]+' '\n",
    "  return x3"
   ]
  },
  {
   "cell_type": "code",
   "execution_count": 17,
   "metadata": {
    "colab": {},
    "colab_type": "code",
    "id": "qy6K2pdXCxhb"
   },
   "outputs": [],
   "source": [
    "lines['eng']=lines['eng'].apply(filter_eng_words)"
   ]
  },
  {
   "cell_type": "code",
   "execution_count": 18,
   "metadata": {
    "colab": {},
    "colab_type": "code",
    "id": "xVKqcPqvCxd-"
   },
   "outputs": [],
   "source": [
    "lines['fr']=lines['fr'].apply(filter_fr_words)"
   ]
  },
  {
   "cell_type": "code",
   "execution_count": 19,
   "metadata": {
    "colab": {},
    "colab_type": "code",
    "id": "iCO5WTo84fnn"
   },
   "outputs": [],
   "source": [
    "all_eng_words=set()\n",
    "for eng in lines.eng:\n",
    "    for word in eng.split():\n",
    "        if word not in all_eng_words:\n",
    "            all_eng_words.add(word)\n",
    "    \n",
    "all_french_words=set()\n",
    "for fr in lines.fr:\n",
    "    for word in fr.split():\n",
    "        if word not in all_french_words:\n",
    "            all_french_words.add(word)"
   ]
  },
  {
   "cell_type": "code",
   "execution_count": 20,
   "metadata": {
    "colab": {},
    "colab_type": "code",
    "id": "UCaP87KP4W_S"
   },
   "outputs": [],
   "source": [
    "input_words = sorted(list(all_eng_words))\n",
    "target_words = sorted(list(all_french_words))\n",
    "num_encoder_tokens = len(all_eng_words)\n",
    "num_decoder_tokens = len(all_french_words)\n",
    "# del all_eng_words, all_french_words"
   ]
  },
  {
   "cell_type": "code",
   "execution_count": 21,
   "metadata": {
    "colab": {
     "base_uri": "https://localhost:8080/",
     "height": 34
    },
    "colab_type": "code",
    "id": "B5eKtS1hnMob",
    "outputId": "c5bc5dea-7f1e-4802-b8ff-55fe28eb69d6"
   },
   "outputs": [
    {
     "data": {
      "text/plain": [
       "{'unk'}"
      ]
     },
     "execution_count": 21,
     "metadata": {},
     "output_type": "execute_result"
    }
   ],
   "source": [
    "set(all_french_words) - set(final_fr_words) "
   ]
  },
  {
   "cell_type": "code",
   "execution_count": 22,
   "metadata": {
    "colab": {
     "base_uri": "https://localhost:8080/",
     "height": 34
    },
    "colab_type": "code",
    "id": "7-S77pDvkBp1",
    "outputId": "47ae17e6-8d21-43b5-ba3a-d3e04c7c7e97"
   },
   "outputs": [
    {
     "data": {
      "text/plain": [
       "385"
      ]
     },
     "execution_count": 22,
     "metadata": {},
     "output_type": "execute_result"
    }
   ],
   "source": [
    "len(all_eng_words)"
   ]
  },
  {
   "cell_type": "code",
   "execution_count": 23,
   "metadata": {
    "colab": {
     "base_uri": "https://localhost:8080/",
     "height": 34
    },
    "colab_type": "code",
    "id": "3IUuEVNm-z6N",
    "outputId": "e1581fe3-39ec-414c-b667-9fb400d821c6"
   },
   "outputs": [
    {
     "data": {
      "text/plain": [
       "358"
      ]
     },
     "execution_count": 23,
     "metadata": {},
     "output_type": "execute_result"
    }
   ],
   "source": [
    "len(target_words)"
   ]
  },
  {
   "cell_type": "code",
   "execution_count": 24,
   "metadata": {
    "colab": {},
    "colab_type": "code",
    "id": "YZQegvje4W8w"
   },
   "outputs": [],
   "source": [
    "input_token_index = dict(\n",
    "    [(word, i+1) for i, word in enumerate(input_words)])\n",
    "target_token_index = dict(\n",
    "    [(word, i+1) for i, word in enumerate(target_words)])"
   ]
  },
  {
   "cell_type": "code",
   "execution_count": 25,
   "metadata": {
    "colab": {
     "base_uri": "https://localhost:8080/",
     "height": 34
    },
    "colab_type": "code",
    "id": "haKpA4AJhDnV",
    "outputId": "52dc1bfb-8806-4832-d722-ba1e4cd3f8d4"
   },
   "outputs": [
    {
     "data": {
      "text/plain": [
       "358"
      ]
     },
     "execution_count": 25,
     "metadata": {},
     "output_type": "execute_result"
    }
   ],
   "source": [
    "num_decoder_tokens"
   ]
  },
  {
   "cell_type": "code",
   "execution_count": 26,
   "metadata": {},
   "outputs": [
    {
     "name": "stdout",
     "output_type": "stream",
     "text": [
      "336\n",
      "284\n",
      "89\n",
      "unk\n",
      "start\n",
      "end\n"
     ]
    }
   ],
   "source": [
    "print(input_token_index['unk'])\n",
    "print(target_token_index['start'])\n",
    "print(target_token_index['end'])\n",
    "print(list(input_token_index.keys())[335])\n",
    "print(list(target_token_index.keys())[283])\n",
    "print(list(target_token_index.keys())[88])"
   ]
  },
  {
   "cell_type": "code",
   "execution_count": 27,
   "metadata": {},
   "outputs": [],
   "source": [
    "length_list=[]\n",
    "for l in lines.fr:\n",
    "    length_list.append(len(l.split(' ')))\n",
    "fr_max_length = np.max(length_list)"
   ]
  },
  {
   "cell_type": "code",
   "execution_count": 28,
   "metadata": {},
   "outputs": [],
   "source": [
    "length_list=[]\n",
    "for l in lines.eng:\n",
    "    length_list.append(len(l.split(' ')))\n",
    "eng_max_length = np.max(length_list)"
   ]
  },
  {
   "cell_type": "code",
   "execution_count": 29,
   "metadata": {},
   "outputs": [
    {
     "name": "stdout",
     "output_type": "stream",
     "text": [
      "8\n",
      "17\n"
     ]
    }
   ],
   "source": [
    "print(eng_max_length)\n",
    "print(fr_max_length)"
   ]
  },
  {
   "cell_type": "code",
   "execution_count": 30,
   "metadata": {
    "colab": {},
    "colab_type": "code",
    "id": "r5_mrLkj45gt"
   },
   "outputs": [],
   "source": [
    "encoder_input_data = np.zeros(\n",
    "    (len(lines['eng']), eng_max_length),\n",
    "    dtype='float32')\n",
    "decoder_input_data = np.zeros(\n",
    "    (len(lines['fr']), fr_max_length),\n",
    "    dtype='float32')\n",
    "decoder_target_data = np.zeros(\n",
    "    (len(lines['fr']), fr_max_length, num_decoder_tokens+1),\n",
    "    dtype='float32')"
   ]
  },
  {
   "cell_type": "code",
   "execution_count": 31,
   "metadata": {
    "colab": {
     "base_uri": "https://localhost:8080/",
     "height": 34
    },
    "colab_type": "code",
    "id": "wrURv1JXrBDF",
    "outputId": "69d72c5b-81f8-4791-e3aa-c7cda60223e7"
   },
   "outputs": [
    {
     "data": {
      "text/plain": [
       "(50000, 17, 359)"
      ]
     },
     "execution_count": 31,
     "metadata": {},
     "output_type": "execute_result"
    }
   ],
   "source": [
    "decoder_target_data.shape"
   ]
  },
  {
   "cell_type": "code",
   "execution_count": 32,
   "metadata": {
    "colab": {},
    "colab_type": "code",
    "id": "km2HiJ0G45oB"
   },
   "outputs": [],
   "source": [
    "for i, (input_text, target_text) in enumerate(zip(lines['eng'], lines['fr'])):\n",
    "    for t, word in enumerate(input_text.split()):\n",
    "        encoder_input_data[i, t] = input_token_index[word]\n",
    "    for t, word in enumerate(target_text.split()):\n",
    "        decoder_input_data[i, t] = target_token_index[word]\n",
    "        if t>0:\n",
    "            decoder_target_data[i, t - 1, target_token_index[word]] = 1.\n",
    "            if t== len(target_text.split())-1:\n",
    "                decoder_target_data[i, t:, 89] = 1"
   ]
  },
  {
   "cell_type": "code",
   "execution_count": 33,
   "metadata": {
    "colab": {
     "base_uri": "https://localhost:8080/",
     "height": 34
    },
    "colab_type": "code",
    "id": "DFwjmRUe-EC5",
    "outputId": "f80ec275-439b-438d-931d-ff846a39c7ed"
   },
   "outputs": [
    {
     "name": "stdout",
     "output_type": "stream",
     "text": [
      "(50000, 17) (50000, 8) (50000, 17, 359)\n"
     ]
    }
   ],
   "source": [
    "print(decoder_input_data.shape,encoder_input_data.shape,decoder_target_data.shape)"
   ]
  },
  {
   "cell_type": "code",
   "execution_count": 34,
   "metadata": {
    "colab": {},
    "colab_type": "code",
    "id": "bd_TzFXztDBQ"
   },
   "outputs": [],
   "source": [
    "for i in range(decoder_input_data.shape[0]):\n",
    "    for j in range(decoder_input_data.shape[1]):\n",
    "        if(decoder_input_data[i][j]==0):\n",
    "            decoder_input_data[i][j] = 89"
   ]
  },
  {
   "cell_type": "code",
   "execution_count": 38,
   "metadata": {
    "colab": {},
    "colab_type": "code",
    "id": "xoPEv6If45ec"
   },
   "outputs": [],
   "source": [
    "from keras.models import Model\n",
    "from keras.layers import Input, LSTM, Dense, Embedding, Bidirectional, RepeatVector, Dropout\n",
    "encoder_inputs = Input(shape=(eng_max_length,))\n",
    "en_x=  Embedding(num_encoder_tokens+1, 128)(encoder_inputs)\n",
    "encoder = LSTM(256, return_state=True)\n",
    "encoder_outputs, state_h, state_c = encoder(en_x)\n",
    "encoder_states = [state_h, state_c]"
   ]
  },
  {
   "cell_type": "code",
   "execution_count": 39,
   "metadata": {
    "colab": {},
    "colab_type": "code",
    "id": "buIdjpO645bO"
   },
   "outputs": [],
   "source": [
    "decoder_inputs = Input(shape=(fr_max_length,))\n",
    "dex=  Embedding(num_decoder_tokens+1, 128)(decoder_inputs)\n",
    "decoder_lstm = LSTM(256, return_sequences=True, return_state=True)\n",
    "decoder_outputs, _, _ = decoder_lstm(dex,initial_state=encoder_states)\n",
    "decoder_outputs = Dense(2000,activation='tanh')(decoder_outputs)\n",
    "decoder_dense = Dense(num_decoder_tokens+1, activation='softmax')(decoder_outputs)\n",
    "\n",
    "model2 = Model([encoder_inputs, decoder_inputs], decoder_dense)\n",
    "model2.compile(optimizer='adam', loss='categorical_crossentropy', metrics=['acc'])"
   ]
  },
  {
   "cell_type": "code",
   "execution_count": 40,
   "metadata": {
    "colab": {
     "base_uri": "https://localhost:8080/",
     "height": 459
    },
    "colab_type": "code",
    "id": "hvaapWUrSxTj",
    "outputId": "bb86ba03-05af-4731-d13c-ded89cbb2453"
   },
   "outputs": [
    {
     "name": "stdout",
     "output_type": "stream",
     "text": [
      "Model: \"model_2\"\n",
      "__________________________________________________________________________________________________\n",
      "Layer (type)                    Output Shape         Param #     Connected to                     \n",
      "==================================================================================================\n",
      "input_4 (InputLayer)            (None, 8)            0                                            \n",
      "__________________________________________________________________________________________________\n",
      "input_5 (InputLayer)            (None, 17)           0                                            \n",
      "__________________________________________________________________________________________________\n",
      "embedding_3 (Embedding)         (None, 8, 128)       49408       input_4[0][0]                    \n",
      "__________________________________________________________________________________________________\n",
      "embedding_4 (Embedding)         (None, 17, 128)      45952       input_5[0][0]                    \n",
      "__________________________________________________________________________________________________\n",
      "lstm_3 (LSTM)                   [(None, 256), (None, 394240      embedding_3[0][0]                \n",
      "__________________________________________________________________________________________________\n",
      "lstm_4 (LSTM)                   [(None, 17, 256), (N 394240      embedding_4[0][0]                \n",
      "                                                                 lstm_3[0][1]                     \n",
      "                                                                 lstm_3[0][2]                     \n",
      "__________________________________________________________________________________________________\n",
      "dense_3 (Dense)                 (None, 17, 2000)     514000      lstm_4[0][0]                     \n",
      "__________________________________________________________________________________________________\n",
      "dense_4 (Dense)                 (None, 17, 359)      718359      dense_3[0][0]                    \n",
      "==================================================================================================\n",
      "Total params: 2,116,199\n",
      "Trainable params: 2,116,199\n",
      "Non-trainable params: 0\n",
      "__________________________________________________________________________________________________\n"
     ]
    }
   ],
   "source": [
    "model2.summary()"
   ]
  },
  {
   "cell_type": "code",
   "execution_count": 41,
   "metadata": {
    "colab": {
     "base_uri": "https://localhost:8080/",
     "height": 204
    },
    "colab_type": "code",
    "id": "iKypEdHs45YD",
    "outputId": "88b4f700-6c46-45ec-d739-f4b8b68a4d68"
   },
   "outputs": [
    {
     "name": "stderr",
     "output_type": "stream",
     "text": [
      "C:\\Users\\ysp\\anaconda3\\lib\\site-packages\\tensorflow_core\\python\\framework\\indexed_slices.py:424: UserWarning: Converting sparse IndexedSlices to a dense Tensor of unknown shape. This may consume a large amount of memory.\n",
      "  \"Converting sparse IndexedSlices to a dense Tensor of unknown shape. \"\n"
     ]
    },
    {
     "name": "stdout",
     "output_type": "stream",
     "text": [
      "Train on 47500 samples, validate on 2500 samples\n",
      "Epoch 1/5\n",
      "47500/47500 [==============================] - 57s 1ms/step - loss: 1.0438 - acc: 0.8101 - val_loss: 1.0609 - val_acc: 0.7880\n",
      "Epoch 2/5\n",
      "47500/47500 [==============================] - 58s 1ms/step - loss: 0.6630 - acc: 0.8573 - val_loss: 0.8162 - val_acc: 0.8168\n",
      "Epoch 3/5\n",
      "47500/47500 [==============================] - 58s 1ms/step - loss: 0.5183 - acc: 0.8766 - val_loss: 0.6927 - val_acc: 0.8333\n",
      "Epoch 4/5\n",
      "47500/47500 [==============================] - 57s 1ms/step - loss: 0.4354 - acc: 0.8903 - val_loss: 0.6166 - val_acc: 0.8464\n",
      "Epoch 5/5\n",
      "47500/47500 [==============================] - 58s 1ms/step - loss: 0.3844 - acc: 0.8995 - val_loss: 0.5830 - val_acc: 0.8516\n"
     ]
    }
   ],
   "source": [
    "history2 = model2.fit([encoder_input_data, decoder_input_data], decoder_target_data,\n",
    "          batch_size=128,\n",
    "          epochs=5,\n",
    "          validation_split=0.05)"
   ]
  },
  {
   "cell_type": "code",
   "execution_count": 42,
   "metadata": {
    "colab": {
     "base_uri": "https://localhost:8080/",
     "height": 388
    },
    "colab_type": "code",
    "id": "MR6_Iy8g68kL",
    "outputId": "fd19de25-539a-4416-c9ad-9d1d647c3bfb"
   },
   "outputs": [
    {
     "data": {
      "image/png": "[encoded data removed]",
      "text/plain": [
       "<Figure size 432x288 with 1 Axes>"
      ]
     },
     "metadata": {
      "needs_background": "light"
     },
     "output_type": "display_data"
    },
    {
     "data": {
      "image/png": "[encoded data removed]",
      "text/plain": [
       "<Figure size 432x288 with 1 Axes>"
      ]
     },
     "metadata": {
      "needs_background": "light"
     },
     "output_type": "display_data"
    }
   ],
   "source": [
    "import matplotlib.pyplot as plt\n",
    "acc=history2.history['acc']\n",
    "val_acc=history2.history['val_acc']\n",
    "loss=history2.history['loss']\n",
    "val_loss=history2.history['val_loss']\n",
    "epochs=range(1,len(acc)+1)\n",
    "plt.plot(epochs,acc,'b',label='training acc')\n",
    "plt.plot(epochs,val_acc,'bo',label='validation acc')\n",
    "plt.title('training and validation accuracy')\n",
    "plt.legend()\n",
    "plt.figure()\n",
    "plt.plot(epochs,loss,'b',label='training loss')\n",
    "plt.plot(epochs,val_loss,'bo',label='validation loss')\n",
    "plt.title('training and validation loss')\n",
    "plt.legend()\n",
    "plt.show()"
   ]
  },
  {
   "cell_type": "code",
   "execution_count": 43,
   "metadata": {
    "colab": {
     "base_uri": "https://localhost:8080/",
     "height": 34
    },
    "colab_type": "code",
    "id": "d0-pL_tYrReW",
    "outputId": "df7ea83e-6764-4279-9291-348870d38898"
   },
   "outputs": [
    {
     "data": {
      "text/plain": [
       "(50000, 17, 359)"
      ]
     },
     "execution_count": 43,
     "metadata": {},
     "output_type": "execute_result"
    }
   ],
   "source": [
    "decoder_target_data.shape"
   ]
  },
  {
   "cell_type": "code",
   "execution_count": 44,
   "metadata": {
    "colab": {
     "base_uri": "https://localhost:8080/",
     "height": 34
    },
    "colab_type": "code",
    "id": "WSITLbicrVTX",
    "outputId": "d60003c7-dff6-4907-cec5-3b3cbadd0c43"
   },
   "outputs": [
    {
     "data": {
      "text/plain": [
       "(50000, 17)"
      ]
     },
     "execution_count": 44,
     "metadata": {},
     "output_type": "execute_result"
    }
   ],
   "source": [
    "act = np.argmax(decoder_target_data, axis=2)\n",
    "act.shape"
   ]
  },
  {
   "cell_type": "code",
   "execution_count": 45,
   "metadata": {
    "colab": {
     "base_uri": "https://localhost:8080/",
     "height": 51
    },
    "colab_type": "code",
    "id": "zbVuix9Z0W1n",
    "outputId": "7621f5fc-05b5-4b24-9062-768f9805d4f6"
   },
   "outputs": [
    {
     "data": {
      "text/plain": [
       "array([321,  89,  89,  89,  89,  89,  89,  89,  89,  89,  89,  89,  89,\n",
       "        89,  89,  89,  89], dtype=int64)"
      ]
     },
     "execution_count": 45,
     "metadata": {},
     "output_type": "execute_result"
    }
   ],
   "source": [
    "act[0]"
   ]
  },
  {
   "cell_type": "code",
   "execution_count": 46,
   "metadata": {
    "colab": {
     "base_uri": "https://localhost:8080/",
     "height": 34
    },
    "colab_type": "code",
    "id": "Ypl3yBmVogKS",
    "outputId": "af1b17d1-beeb-4a51-b8c0-7e4a3c293871"
   },
   "outputs": [
    {
     "name": "stdout",
     "output_type": "stream",
     "text": [
      "7279 15926\n",
      "0.45705136255180207\n"
     ]
    }
   ],
   "source": [
    "count = 0\n",
    "correct_count = 0\n",
    "pred = model2.predict([encoder_input_data[47500:],decoder_input_data[47500:]])\n",
    "for i in range(2500):\n",
    "  t = np.argmax(pred[i], axis=-1)\n",
    "  correct_count += np.sum((act[47500+i]==t) & (act[47500+i]!=89))\n",
    "  count += np.sum(decoder_input_data[47500+i]!=89)\n",
    "print(correct_count,count)\n",
    "print(correct_count/count)"
   ]
  },
  {
   "cell_type": "code",
   "execution_count": 47,
   "metadata": {
    "colab": {
     "base_uri": "https://localhost:8080/",
     "height": 34
    },
    "colab_type": "code",
    "id": "6B-4JA0U0Dei",
    "outputId": "2968f984-0d58-470b-9050-435ba068fa86"
   },
   "outputs": [
    {
     "data": {
      "text/plain": [
       "89"
      ]
     },
     "execution_count": 47,
     "metadata": {},
     "output_type": "execute_result"
    }
   ],
   "source": [
    "target_token_index['end']"
   ]
  },
  {
   "cell_type": "code",
   "execution_count": 48,
   "metadata": {
    "colab": {},
    "colab_type": "code",
    "id": "BBlyppAJwckD"
   },
   "outputs": [
    {
     "data": {
      "text/plain": [
       "(50000, 17)"
      ]
     },
     "execution_count": 48,
     "metadata": {},
     "output_type": "execute_result"
    }
   ],
   "source": [
    "decoder_input_data_pred = np.zeros(\n",
    "    (len(lines['fr']), fr_max_length),\n",
    "    dtype='float32')\n",
    "decoder_input_data_pred.shape"
   ]
  },
  {
   "cell_type": "code",
   "execution_count": 49,
   "metadata": {
    "colab": {},
    "colab_type": "code",
    "id": "RaRL3z0CvCjx"
   },
   "outputs": [],
   "source": [
    "final_pred = []\n",
    "for i in range(2500):\n",
    "  word = 284\n",
    "  for j in range(17):\n",
    "    decoder_input_data_pred[(47500+i), j] = word\n",
    "    pred = model2.predict([encoder_input_data[(47500+i)].reshape(1,8),decoder_input_data_pred[47500+i].reshape(1,17)])\n",
    "    t = np.argmax(pred[0][j])\n",
    "    word = t\n",
    "    if word==89:\n",
    "      break\n",
    "  final_pred.append(list(decoder_input_data_pred[47500+i]))"
   ]
  },
  {
   "cell_type": "code",
   "execution_count": 50,
   "metadata": {
    "colab": {
     "base_uri": "https://localhost:8080/",
     "height": 34
    },
    "colab_type": "code",
    "id": "_jExPEb0zOv0",
    "outputId": "d52abdd5-30a3-46fa-9d45-2e4713f00215"
   },
   "outputs": [
    {
     "data": {
      "text/plain": [
       "(2500, 17)"
      ]
     },
     "execution_count": 50,
     "metadata": {},
     "output_type": "execute_result"
    }
   ],
   "source": [
    "final_pred2 = np.array(final_pred)\n",
    "final_pred2.shape"
   ]
  },
  {
   "cell_type": "code",
   "execution_count": 51,
   "metadata": {
    "colab": {
     "base_uri": "https://localhost:8080/",
     "height": 34
    },
    "colab_type": "code",
    "id": "0laNy_IxyCTn",
    "outputId": "a9fcb417-0449-4781-c609-113130dc9486"
   },
   "outputs": [
    {
     "data": {
      "text/plain": [
       "0.48160241115157604"
      ]
     },
     "execution_count": 51,
     "metadata": {},
     "output_type": "execute_result"
    }
   ],
   "source": [
    "count = 0\n",
    "correct_count = 0\n",
    "\n",
    "for i in range(2500):\n",
    "  correct_count += np.sum((decoder_input_data[47500+i]==final_pred2[i]) & (decoder_input_data[47500+i]!=89))\n",
    "  count += np.sum(decoder_input_data[47500+i]!=89)\n",
    "correct_count/count"
   ]
  },
  {
   "cell_type": "code",
   "execution_count": null,
   "metadata": {},
   "outputs": [],
   "source": []
  }
 ],
 "metadata": {
  "accelerator": "GPU",
  "colab": {
   "collapsed_sections": [],
   "name": "Machine_translation.ipynb",
   "provenance": []
  },
  "kernelspec": {
   "display_name": "Python 3",
   "language": "python",
   "name": "python3"
  },
  "language_info": {
   "codemirror_mode": {
    "name": "ipython",
    "version": 3
   },
   "file_extension": ".py",
   "mimetype": "text/x-python",
   "name": "python",
   "nbconvert_exporter": "python",
   "pygments_lexer": "ipython3",
   "version": "3.6.9"
  }
 },
 "nbformat": 4,
 "nbformat_minor": 4
}
