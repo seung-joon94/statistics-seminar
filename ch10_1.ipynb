{
 "cells": [
  {
   "cell_type": "code",
   "execution_count": 1,
   "metadata": {
    "colab": {
     "base_uri": "https://localhost:8080/",
     "height": 34
    },
    "colab_type": "code",
    "id": "YbZpxcZfN8oE",
    "outputId": "f413d42f-fca3-4a26-a2a7-457ff3092292"
   },
   "outputs": [
    {
     "name": "stderr",
     "output_type": "stream",
     "text": [
      "Using TensorFlow backend.\n"
     ]
    }
   ],
   "source": [
    "import pandas as pd\n",
    "import numpy as np\n",
    "import string"
   ]
  },
  {
   "cell_type": "code",
   "execution_count": 2,
   "metadata": {
    "colab": {
     "base_uri": "https://localhost:8080/",
     "height": 51
    },
    "colab_type": "code",
    "id": "ATqji5eL4W4U",
    "outputId": "507f45a5-22c9-4119-9100-bc0ba0780958"
   },
   "outputs": [],
   "source": [
    "lines= pd.read_table('C:/Users/ysp/Desktop/Deep Learning/english to french.txt', names=['eng', 'fr'])"
   ]
  },
  {
   "cell_type": "code",
   "execution_count": 3,
   "metadata": {
    "colab": {},
    "colab_type": "code",
    "id": "F_qXu5VX4XIp"
   },
   "outputs": [
    {
     "name": "stdout",
     "output_type": "stream",
     "text": [
      "    eng        fr\n",
      "0   Go.      Va !\n",
      "1  Run!   Cours !\n",
      "2  Run!  Courez !\n",
      "                            eng                              fr\n",
      "49997  They go to work on foot.     Ils vont au travail à pied.\n",
      "49998  They got into the train.    Ils montèrent dans le train.\n",
      "49999  They got into the train.  Elles montèrent dans le train.\n"
     ]
    }
   ],
   "source": [
    "lines = lines[0:50000]\n",
    "print(lines.head(3))\n",
    "print(lines.tail(3))"
   ]
  },
  {
   "cell_type": "code",
   "execution_count": 4,
   "metadata": {
    "colab": {},
    "colab_type": "code",
    "id": "NkdgGL404XGc"
   },
   "outputs": [],
   "source": [
    "lines['eng']=lines['eng'].apply(lambda x: x.lower())\n",
    "lines['fr']=lines['fr'].apply(lambda x: x.lower())"
   ]
  },
  {
   "cell_type": "code",
   "execution_count": 5,
   "metadata": {
    "colab": {},
    "colab_type": "code",
    "id": "gOkzFxTe4fhL"
   },
   "outputs": [],
   "source": [
    "exclude = set(string.punctuation)\n",
    "lines.eng=lines.eng.apply(lambda x: ''.join(ch for ch in x if ch not in exclude))\n",
    "lines.fr=lines.fr.apply(lambda x: ''.join(ch for ch in x if ch not in exclude))"
   ]
  },
  {
   "cell_type": "code",
   "execution_count": 6,
   "metadata": {
    "colab": {
     "base_uri": "https://localhost:8080/",
     "height": 204
    },
    "colab_type": "code",
    "id": "tzfDq12jOeZD",
    "outputId": "ff9515af-b9c5-4ebe-a62d-26bab4e83e6d"
   },
   "outputs": [
    {
     "name": "stdout",
     "output_type": "stream",
     "text": [
      "   eng       fr\n",
      "0   go      va \n",
      "1  run   cours \n",
      "2  run  courez \n",
      "                           eng                             fr\n",
      "49997  they go to work on foot     ils vont au travail à pied\n",
      "49998  they got into the train    ils montèrent dans le train\n",
      "49999  they got into the train  elles montèrent dans le train\n"
     ]
    }
   ],
   "source": [
    "print(lines.head(3))\n",
    "print(lines.tail(3))"
   ]
  },
  {
   "cell_type": "code",
   "execution_count": 7,
   "metadata": {
    "colab": {},
    "colab_type": "code",
    "id": "2tVHM-oR4fpm"
   },
   "outputs": [],
   "source": [
    "lines.fr = lines.fr.apply(lambda x : 'start '+ x + ' end')"
   ]
  },
  {
   "cell_type": "code",
   "execution_count": 8,
   "metadata": {
    "colab": {
     "base_uri": "https://localhost:8080/",
     "height": 204
    },
    "colab_type": "code",
    "id": "2D_AMqsdndne",
    "outputId": "cb4eacbf-03ca-4005-8461-9766e39b19e6"
   },
   "outputs": [
    {
     "name": "stdout",
     "output_type": "stream",
     "text": [
      "   eng                 fr\n",
      "0   go      start va  end\n",
      "1  run   start cours  end\n",
      "2  run  start courez  end\n",
      "                           eng                                       fr\n",
      "49997  they go to work on foot     start ils vont au travail à pied end\n",
      "49998  they got into the train    start ils montèrent dans le train end\n",
      "49999  they got into the train  start elles montèrent dans le train end\n"
     ]
    }
   ],
   "source": [
    "print(lines.head(3))\n",
    "print(lines.tail(3))"
   ]
  },
  {
   "cell_type": "code",
   "execution_count": 9,
   "metadata": {
    "colab": {
     "base_uri": "https://localhost:8080/",
     "height": 34
    },
    "colab_type": "code",
    "id": "BByeGbi6rx89",
    "outputId": "736ce137-d57a-468b-cb3b-d8b724db8bf1"
   },
   "outputs": [
    {
     "data": {
      "text/plain": [
       "(50000, 2)"
      ]
     },
     "execution_count": 9,
     "metadata": {},
     "output_type": "execute_result"
    }
   ],
   "source": [
    "lines.shape"
   ]
  },
  {
   "cell_type": "code",
   "execution_count": 10,
   "metadata": {
    "colab": {},
    "colab_type": "code",
    "id": "gCXv8Y7G_szR"
   },
   "outputs": [],
   "source": [
    "# fit a tokenizer\n",
    "from keras.preprocessing.text import Tokenizer\n",
    "def create_tokenizer(lines):\n",
    "    tokenizer = Tokenizer()\n",
    "    tokenizer.fit_on_texts(lines)\n",
    "    return tokenizer"
   ]
  },
  {
   "cell_type": "code",
   "execution_count": 11,
   "metadata": {
    "colab": {},
    "colab_type": "code",
    "id": "4y854XLW_swc"
   },
   "outputs": [],
   "source": [
    "import json\n",
    "eng_tokenizer = create_tokenizer(lines['eng'])\n",
    "eng_dict=json.loads(json.dumps(eng_tokenizer.word_counts))\n",
    "df =pd.DataFrame([eng_dict.keys(), eng_dict.values()]).T\n",
    "df.columns = ['word','count']\n",
    "df = df.sort_values(by='count',ascending = False)\n",
    "df['cum_count']=df['count'].cumsum()\n",
    "df['cum_perc'] = df['cum_count']/df['cum_count'].max()\n",
    "final_eng_words = df[df['cum_perc']<0.8]['word'].values"
   ]
  },
  {
   "cell_type": "code",
   "execution_count": 12,
   "metadata": {
    "colab": {},
    "colab_type": "code",
    "id": "I3OrR4k0AfTX"
   },
   "outputs": [],
   "source": [
    "fr_tokenizer = create_tokenizer(lines['fr'])\n",
    "fr_dict = json.loads(json.dumps(fr_tokenizer.word_counts))\n",
    "df =pd.DataFrame([fr_dict.keys(), fr_dict.values()]).T\n",
    "df.columns = ['word','count']\n",
    "df = df.sort_values(by='count',ascending = False)\n",
    "df['cum_count']=df['count'].cumsum()\n",
    "df['cum_perc'] = df['cum_count']/df['cum_count'].max()\n",
    "final_fr_words = df[df['cum_perc']<0.8]['word'].values"
   ]
  },
  {
   "cell_type": "code",
   "execution_count": 13,
   "metadata": {
    "colab": {
     "base_uri": "https://localhost:8080/",
     "height": 34
    },
    "colab_type": "code",
    "id": "m4jrbgIjAfPd",
    "outputId": "ecd98af9-bb9c-4a93-a864-1eeb6c086e32"
   },
   "outputs": [
    {
     "name": "stdout",
     "output_type": "stream",
     "text": [
      "384 357\n"
     ]
    }
   ],
   "source": [
    "print(len(final_eng_words),len(final_fr_words))"
   ]
  },
  {
   "cell_type": "code",
   "execution_count": 14,
   "metadata": {
    "colab": {},
    "colab_type": "code",
    "id": "mTOesHOq_ss0"
   },
   "outputs": [],
   "source": [
    "def filter_eng_words(x):\n",
    "  t = []\n",
    "  x = x.split()\n",
    "  for i in range(len(x)):\n",
    "    if x[i] in final_eng_words:\n",
    "      t.append(x[i])\n",
    "    else:\n",
    "      t.append('unk')\n",
    "  x3 = ''\n",
    "  for i in range(len(t)):\n",
    "    x3 = x3+t[i]+' '\n",
    "  return x3"
   ]
  },
  {
   "cell_type": "code",
   "execution_count": 15,
   "metadata": {
    "colab": {
     "base_uri": "https://localhost:8080/",
     "height": 34
    },
    "colab_type": "code",
    "id": "djQPLFAml-A3",
    "outputId": "02237d1c-4b04-425e-c2a6-b7fba61183aa"
   },
   "outputs": [
    {
     "data": {
      "text/plain": [
       "'he is unk good '"
      ]
     },
     "execution_count": 15,
     "metadata": {},
     "output_type": "execute_result"
    }
   ],
   "source": [
    "filter_eng_words('he is extremely good')"
   ]
  },
  {
   "cell_type": "code",
   "execution_count": 16,
   "metadata": {
    "colab": {},
    "colab_type": "code",
    "id": "e7sUkiqGBDJd"
   },
   "outputs": [],
   "source": [
    "def filter_fr_words(x):\n",
    "  t = []\n",
    "  x = x.split()\n",
    "  for i in range(len(x)):\n",
    "    if x[i] in final_fr_words:\n",
    "      t.append(x[i])\n",
    "    else:\n",
    "      t.append('unk')\n",
    "  x3 = ''\n",
    "  for i in range(len(t)):\n",
    "    x3 = x3+t[i]+' '\n",
    "  return x3"
   ]
  },
  {
   "cell_type": "code",
   "execution_count": 17,
   "metadata": {
    "colab": {},
    "colab_type": "code",
    "id": "qy6K2pdXCxhb"
   },
   "outputs": [],
   "source": [
    "lines['eng']=lines['eng'].apply(filter_eng_words)"
   ]
  },
  {
   "cell_type": "code",
   "execution_count": 18,
   "metadata": {
    "colab": {},
    "colab_type": "code",
    "id": "xVKqcPqvCxd-"
   },
   "outputs": [],
   "source": [
    "lines['fr']=lines['fr'].apply(filter_fr_words)"
   ]
  },
  {
   "cell_type": "code",
   "execution_count": 19,
   "metadata": {
    "colab": {},
    "colab_type": "code",
    "id": "iCO5WTo84fnn"
   },
   "outputs": [],
   "source": [
    "all_eng_words=set()\n",
    "for eng in lines.eng:\n",
    "    for word in eng.split():\n",
    "        if word not in all_eng_words:\n",
    "            all_eng_words.add(word)\n",
    "    \n",
    "all_french_words=set()\n",
    "for fr in lines.fr:\n",
    "    for word in fr.split():\n",
    "        if word not in all_french_words:\n",
    "            all_french_words.add(word)"
   ]
  },
  {
   "cell_type": "code",
   "execution_count": 20,
   "metadata": {
    "colab": {},
    "colab_type": "code",
    "id": "UCaP87KP4W_S"
   },
   "outputs": [],
   "source": [
    "input_words = sorted(list(all_eng_words))\n",
    "target_words = sorted(list(all_french_words))\n",
    "num_encoder_tokens = len(all_eng_words)\n",
    "num_decoder_tokens = len(all_french_words)\n",
    "# del all_eng_words, all_french_words"
   ]
  },
  {
   "cell_type": "code",
   "execution_count": 21,
   "metadata": {
    "colab": {
     "base_uri": "https://localhost:8080/",
     "height": 34
    },
    "colab_type": "code",
    "id": "B5eKtS1hnMob",
    "outputId": "c5bc5dea-7f1e-4802-b8ff-55fe28eb69d6"
   },
   "outputs": [
    {
     "data": {
      "text/plain": [
       "{'unk'}"
      ]
     },
     "execution_count": 21,
     "metadata": {},
     "output_type": "execute_result"
    }
   ],
   "source": [
    "set(all_french_words) - set(final_fr_words) "
   ]
  },
  {
   "cell_type": "code",
   "execution_count": 22,
   "metadata": {
    "colab": {
     "base_uri": "https://localhost:8080/",
     "height": 34
    },
    "colab_type": "code",
    "id": "7-S77pDvkBp1",
    "outputId": "47ae17e6-8d21-43b5-ba3a-d3e04c7c7e97"
   },
   "outputs": [
    {
     "data": {
      "text/plain": [
       "385"
      ]
     },
     "execution_count": 22,
     "metadata": {},
     "output_type": "execute_result"
    }
   ],
   "source": [
    "len(all_eng_words)"
   ]
  },
  {
   "cell_type": "code",
   "execution_count": 23,
   "metadata": {
    "colab": {
     "base_uri": "https://localhost:8080/",
     "height": 34
    },
    "colab_type": "code",
    "id": "3IUuEVNm-z6N",
    "outputId": "e1581fe3-39ec-414c-b667-9fb400d821c6"
   },
   "outputs": [
    {
     "data": {
      "text/plain": [
       "358"
      ]
     },
     "execution_count": 23,
     "metadata": {},
     "output_type": "execute_result"
    }
   ],
   "source": [
    "len(target_words)"
   ]
  },
  {
   "cell_type": "code",
   "execution_count": 24,
   "metadata": {
    "colab": {},
    "colab_type": "code",
    "id": "YZQegvje4W8w"
   },
   "outputs": [],
   "source": [
    "input_token_index = dict(\n",
    "    [(word, i+1) for i, word in enumerate(input_words)])\n",
    "target_token_index = dict(\n",
    "    [(word, i+1) for i, word in enumerate(target_words)])"
   ]
  },
  {
   "cell_type": "code",
   "execution_count": 25,
   "metadata": {
    "colab": {
     "base_uri": "https://localhost:8080/",
     "height": 34
    },
    "colab_type": "code",
    "id": "haKpA4AJhDnV",
    "outputId": "52dc1bfb-8806-4832-d722-ba1e4cd3f8d4"
   },
   "outputs": [
    {
     "data": {
      "text/plain": [
       "358"
      ]
     },
     "execution_count": 25,
     "metadata": {},
     "output_type": "execute_result"
    }
   ],
   "source": [
    "num_decoder_tokens"
   ]
  },
  {
   "cell_type": "code",
   "execution_count": 26,
   "metadata": {},
   "outputs": [
    {
     "name": "stdout",
     "output_type": "stream",
     "text": [
      "336\n",
      "284\n",
      "89\n",
      "unk\n",
      "start\n",
      "end\n"
     ]
    }
   ],
   "source": [
    "print(input_token_index['unk'])\n",
    "print(target_token_index['start'])\n",
    "print(target_token_index['end'])\n",
    "print(list(input_token_index.keys())[335])\n",
    "print(list(target_token_index.keys())[283])\n",
    "print(list(target_token_index.keys())[88])"
   ]
  },
  {
   "cell_type": "code",
   "execution_count": 27,
   "metadata": {},
   "outputs": [],
   "source": [
    "length_list=[]\n",
    "for l in lines.fr:\n",
    "    length_list.append(len(l.split(' ')))\n",
    "fr_max_length = np.max(length_list)"
   ]
  },
  {
   "cell_type": "code",
   "execution_count": 28,
   "metadata": {},
   "outputs": [],
   "source": [
    "length_list=[]\n",
    "for l in lines.eng:\n",
    "    length_list.append(len(l.split(' ')))\n",
    "eng_max_length = np.max(length_list)"
   ]
  },
  {
   "cell_type": "code",
   "execution_count": 29,
   "metadata": {},
   "outputs": [
    {
     "name": "stdout",
     "output_type": "stream",
     "text": [
      "8\n",
      "17\n"
     ]
    }
   ],
   "source": [
    "print(eng_max_length)\n",
    "print(fr_max_length)"
   ]
  },
  {
   "cell_type": "code",
   "execution_count": 30,
   "metadata": {
    "colab": {},
    "colab_type": "code",
    "id": "r5_mrLkj45gt"
   },
   "outputs": [],
   "source": [
    "encoder_input_data = np.zeros(\n",
    "    (len(lines['eng']), eng_max_length),\n",
    "    dtype='float32')\n",
    "decoder_input_data = np.zeros(\n",
    "    (len(lines['fr']), fr_max_length),\n",
    "    dtype='float32')\n",
    "decoder_target_data = np.zeros(\n",
    "    (len(lines['fr']), fr_max_length, num_decoder_tokens+1),\n",
    "    dtype='float32')"
   ]
  },
  {
   "cell_type": "code",
   "execution_count": 31,
   "metadata": {
    "colab": {
     "base_uri": "https://localhost:8080/",
     "height": 34
    },
    "colab_type": "code",
    "id": "wrURv1JXrBDF",
    "outputId": "69d72c5b-81f8-4791-e3aa-c7cda60223e7"
   },
   "outputs": [
    {
     "data": {
      "text/plain": [
       "(50000, 17, 359)"
      ]
     },
     "execution_count": 31,
     "metadata": {},
     "output_type": "execute_result"
    }
   ],
   "source": [
    "decoder_target_data.shape"
   ]
  },
  {
   "cell_type": "code",
   "execution_count": 32,
   "metadata": {
    "colab": {},
    "colab_type": "code",
    "id": "km2HiJ0G45oB"
   },
   "outputs": [],
   "source": [
    "for i, (input_text, target_text) in enumerate(zip(lines['eng'], lines['fr'])):\n",
    "    for t, word in enumerate(input_text.split()):\n",
    "        encoder_input_data[i, t] = input_token_index[word]\n",
    "    for t, word in enumerate(target_text.split()):\n",
    "        decoder_input_data[i, t] = target_token_index[word]\n",
    "        if t>0:\n",
    "            decoder_target_data[i, t - 1, target_token_index[word]] = 1.\n",
    "            if t== len(target_text.split())-1:\n",
    "                decoder_target_data[i, t:, 89] = 1"
   ]
  },
  {
   "cell_type": "code",
   "execution_count": 33,
   "metadata": {
    "colab": {
     "base_uri": "https://localhost:8080/",
     "height": 34
    },
    "colab_type": "code",
    "id": "DFwjmRUe-EC5",
    "outputId": "f80ec275-439b-438d-931d-ff846a39c7ed"
   },
   "outputs": [
    {
     "name": "stdout",
     "output_type": "stream",
     "text": [
      "(50000, 17) (50000, 8) (50000, 17, 359)\n"
     ]
    }
   ],
   "source": [
    "print(decoder_input_data.shape,encoder_input_data.shape,decoder_target_data.shape)"
   ]
  },
  {
   "cell_type": "code",
   "execution_count": 34,
   "metadata": {
    "colab": {},
    "colab_type": "code",
    "id": "bd_TzFXztDBQ"
   },
   "outputs": [],
   "source": [
    "for i in range(decoder_input_data.shape[0]):\n",
    "    for j in range(decoder_input_data.shape[1]):\n",
    "        if(decoder_input_data[i][j]==0):\n",
    "            decoder_input_data[i][j] = 89"
   ]
  },
  {
   "cell_type": "code",
   "execution_count": 35,
   "metadata": {
    "colab": {},
    "colab_type": "code",
    "id": "j20FKOWG-tQm"
   },
   "outputs": [
    {
     "name": "stdout",
     "output_type": "stream",
     "text": [
      "Model: \"sequential_1\"\n",
      "_________________________________________________________________\n",
      "Layer (type)                 Output Shape              Param #   \n",
      "=================================================================\n",
      "embedding_1 (Embedding)      (None, 8, 128)            49408     \n",
      "_________________________________________________________________\n",
      "bidirectional_1 (Bidirection (None, 512)               788480    \n",
      "_________________________________________________________________\n",
      "repeat_vector_1 (RepeatVecto (None, 17, 512)           0         \n",
      "_________________________________________________________________\n",
      "lstm_2 (LSTM)                (None, 17, 256)           787456    \n",
      "_________________________________________________________________\n",
      "dense_1 (Dense)              (None, 17, 359)           92263     \n",
      "=================================================================\n",
      "Total params: 1,717,607\n",
      "Trainable params: 1,717,607\n",
      "Non-trainable params: 0\n",
      "_________________________________________________________________\n"
     ]
    }
   ],
   "source": [
    "from keras.models import Sequential, Model\n",
    "from keras.layers import Input, LSTM, Dense, Embedding, Bidirectional, RepeatVector, Dropout\n",
    "model1 = Sequential()\n",
    "model1.add(Embedding(len(input_words)+1, 128, input_length=eng_max_length))\n",
    "model1.add(Bidirectional(LSTM(256)))\n",
    "model1.add(RepeatVector(fr_max_length))\n",
    "model1.add((LSTM(256, return_sequences=True)))\n",
    "model1.add((Dense(len(target_token_index)+1, activation='softmax')))\n",
    "model1.summary()"
   ]
  },
  {
   "cell_type": "code",
   "execution_count": 36,
   "metadata": {
    "colab": {
     "base_uri": "https://localhost:8080/",
     "height": 105
    },
    "colab_type": "code",
    "id": "kgV2Dk8V--Yw",
    "outputId": "214b6923-1e05-4d31-efcb-6b5b76302b62"
   },
   "outputs": [],
   "source": [
    "model1.compile(optimizer='adam', loss='categorical_crossentropy',metrics=['acc'])"
   ]
  },
  {
   "cell_type": "code",
   "execution_count": 37,
   "metadata": {
    "colab": {
     "base_uri": "https://localhost:8080/",
     "height": 258
    },
    "colab_type": "code",
    "id": "sAoM8J0v--Vw",
    "outputId": "48c7356a-c07e-4ce1-b471-8eb1ef663984"
   },
   "outputs": [
    {
     "name": "stderr",
     "output_type": "stream",
     "text": [
      "C:\\Users\\ysp\\anaconda3\\lib\\site-packages\\tensorflow_core\\python\\framework\\indexed_slices.py:424: UserWarning: Converting sparse IndexedSlices to a dense Tensor of unknown shape. This may consume a large amount of memory.\n",
      "  \"Converting sparse IndexedSlices to a dense Tensor of unknown shape. \"\n"
     ]
    },
    {
     "name": "stdout",
     "output_type": "stream",
     "text": [
      "Train on 47500 samples, validate on 2500 samples\n",
      "Epoch 1/5\n",
      "47500/47500 [==============================] - 67s 1ms/step - loss: 1.1745 - acc: 0.7920 - val_loss: 1.2939 - val_acc: 0.7573\n",
      "Epoch 2/5\n",
      "47500/47500 [==============================] - 72s 2ms/step - loss: 0.9148 - acc: 0.8157 - val_loss: 1.1596 - val_acc: 0.7687\n",
      "Epoch 3/5\n",
      "47500/47500 [==============================] - 72s 2ms/step - loss: 0.7829 - acc: 0.8345 - val_loss: 1.0377 - val_acc: 0.7824\n",
      "Epoch 4/5\n",
      "47500/47500 [==============================] - 73s 2ms/step - loss: 0.6953 - acc: 0.8458 - val_loss: 0.9580 - val_acc: 0.7928\n",
      "Epoch 5/5\n",
      "47500/47500 [==============================] - 74s 2ms/step - loss: 0.6331 - acc: 0.8530 - val_loss: 0.8998 - val_acc: 0.7979\n"
     ]
    }
   ],
   "source": [
    "history = model1.fit(encoder_input_data, decoder_target_data,\n",
    "          batch_size=128,\n",
    "          epochs=5,\n",
    "          validation_split=0.05)"
   ]
  },
  {
   "cell_type": "code",
   "execution_count": 38,
   "metadata": {
    "colab": {
     "base_uri": "https://localhost:8080/",
     "height": 388
    },
    "colab_type": "code",
    "id": "KGzRsXCi2x9p",
    "outputId": "e29114e3-90f4-4e88-a1b7-17b4ba5b10f7"
   },
   "outputs": [
    {
     "data": {
      "image/png": "[encoded data removed]",
      "text/plain": [
       "<Figure size 432x288 with 1 Axes>"
      ]
     },
     "metadata": {
      "needs_background": "light"
     },
     "output_type": "display_data"
    },
    {
     "data": {
      "image/png": "[encoded data removed]",
      "text/plain": [
       "<Figure size 432x288 with 1 Axes>"
      ]
     },
     "metadata": {
      "needs_background": "light"
     },
     "output_type": "display_data"
    }
   ],
   "source": [
    "import matplotlib.pyplot as plt\n",
    "acc=history.history['acc']\n",
    "val_acc=history.history['val_acc']\n",
    "loss=history.history['loss']\n",
    "val_loss=history.history['val_loss']\n",
    "epochs=range(1,len(acc)+1)\n",
    "plt.plot(epochs,acc,'b',label='training acc')\n",
    "plt.plot(epochs,val_acc,'bo',label='validation acc')\n",
    "plt.title('training and validation accuracy')\n",
    "plt.legend()\n",
    "plt.figure()\n",
    "plt.plot(epochs,loss,'b',label='training loss')\n",
    "plt.plot(epochs,val_loss,'bo',label='validation loss')\n",
    "plt.title('training and validation loss')\n",
    "plt.legend()\n",
    "plt.show()\n"
   ]
  },
  {
   "cell_type": "code",
   "execution_count": 39,
   "metadata": {},
   "outputs": [
    {
     "name": "stdout",
     "output_type": "stream",
     "text": [
      "5324 13426\n",
      "0.396544019067481\n"
     ]
    }
   ],
   "source": [
    "count = 0\n",
    "correct_count = 0\n",
    "pred = model1.predict(encoder_input_data[47500:])\n",
    "for i in range(2500):\n",
    "    t = np.argmax(pred[i], axis=-1)\n",
    "    act=np.argmax(decoder_target_data[47500+i], axis=-1)\n",
    "    correct_count += np.sum((act==t) & (act!=89))\n",
    "    count += np.sum(act!=89)\n",
    "print(correct_count, count)\n",
    "print(correct_count/count)"
   ]
  },
  {
   "cell_type": "code",
   "execution_count": 55,
   "metadata": {
    "colab": {
     "base_uri": "https://localhost:8080/",
     "height": 51
    },
    "colab_type": "code",
    "id": "XGaaTlFWqRff",
    "outputId": "3ee23630-cd82-49c3-9875-ca931e3d6787"
   },
   "outputs": [
    {
     "data": {
      "text/plain": [
       "array([155.,  98., 185., 336.,   0.,   0.,   0.,   0.], dtype=float32)"
      ]
     },
     "execution_count": 55,
     "metadata": {},
     "output_type": "execute_result"
    }
   ],
   "source": [
    "encoder_input_data[-2400]"
   ]
  },
  {
   "cell_type": "code",
   "execution_count": 56,
   "metadata": {
    "colab": {
     "base_uri": "https://localhost:8080/",
     "height": 306
    },
    "colab_type": "code",
    "id": "pbwG8tnblE9z",
    "outputId": "5ed93f95-e51d-4484-c709-af4d3c987fb2"
   },
   "outputs": [
    {
     "name": "stdout",
     "output_type": "stream",
     "text": [
      "je\n",
      "me\n",
      "unk\n",
      "unk\n",
      "unk\n",
      "end\n",
      "end\n",
      "end\n",
      "end\n",
      "end\n",
      "end\n",
      "end\n",
      "end\n",
      "end\n",
      "end\n",
      "end\n",
      "end\n"
     ]
    }
   ],
   "source": [
    "t = model1.predict(encoder_input_data[-2400].reshape(1,encoder_input_data.shape[1])).reshape(decoder_input_data.shape[1], num_decoder_tokens+1)\n",
    "t2 = np.argmax(t,axis=1)\n",
    "for i in range(len(t2)):\n",
    "  if int(t2[i])!=0:\n",
    "    print(list(target_token_index.keys())[int(t2[i]-1)])\n"
   ]
  },
  {
   "cell_type": "code",
   "execution_count": null,
   "metadata": {
    "colab": {},
    "colab_type": "code",
    "id": "E-eXix35Qal8"
   },
   "outputs": [],
   "source": []
  },
  {
   "cell_type": "code",
   "execution_count": null,
   "metadata": {},
   "outputs": [],
   "source": []
  }
 ],
 "metadata": {
  "accelerator": "GPU",
  "colab": {
   "collapsed_sections": [],
   "name": "Machine_translation.ipynb",
   "provenance": []
  },
  "kernelspec": {
   "display_name": "Python 3",
   "language": "python",
   "name": "python3"
  },
  "language_info": {
   "codemirror_mode": {
    "name": "ipython",
    "version": 3
   },
   "file_extension": ".py",
   "mimetype": "text/x-python",
   "name": "python",
   "nbconvert_exporter": "python",
   "pygments_lexer": "ipython3",
   "version": "3.6.9"
  }
 },
 "nbformat": 4,
 "nbformat_minor": 4
}
