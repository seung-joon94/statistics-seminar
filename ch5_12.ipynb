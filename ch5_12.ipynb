{
 "cells": [
  {
   "cell_type": "code",
   "execution_count": 1,
   "metadata": {},
   "outputs": [
    {
     "data": {
      "text/html": [
       "<div>\n",
       "<style scoped>\n",
       "    .dataframe tbody tr th:only-of-type {\n",
       "        vertical-align: middle;\n",
       "    }\n",
       "\n",
       "    .dataframe tbody tr th {\n",
       "        vertical-align: top;\n",
       "    }\n",
       "\n",
       "    .dataframe thead th {\n",
       "        text-align: right;\n",
       "    }\n",
       "</style>\n",
       "<table border=\"1\" class=\"dataframe\">\n",
       "  <thead>\n",
       "    <tr style=\"text-align: right;\">\n",
       "      <th></th>\n",
       "      <th>_unit_id</th>\n",
       "      <th>_golden</th>\n",
       "      <th>_unit_state</th>\n",
       "      <th>_trusted_judgments</th>\n",
       "      <th>_last_judgment_at</th>\n",
       "      <th>please_select_the_gender_of_the_person_in_the_picture</th>\n",
       "      <th>please_select_the_gender_of_the_person_in_the_picture:confidence</th>\n",
       "      <th>image_url</th>\n",
       "      <th>please_select_the_gender_of_the_person_in_the_picture_gold</th>\n",
       "      <th>user_id</th>\n",
       "    </tr>\n",
       "  </thead>\n",
       "  <tbody>\n",
       "    <tr>\n",
       "      <th>0</th>\n",
       "      <td>1023132475</td>\n",
       "      <td>False</td>\n",
       "      <td>finalized</td>\n",
       "      <td>1</td>\n",
       "      <td>8/19/2016 17:00:25</td>\n",
       "      <td>male</td>\n",
       "      <td>1.0</td>\n",
       "      <td>https://d1qb2nb5cznatu.cloudfront.net/users/40...</td>\n",
       "      <td>NaN</td>\n",
       "      <td>40</td>\n",
       "    </tr>\n",
       "    <tr>\n",
       "      <th>1</th>\n",
       "      <td>1023132476</td>\n",
       "      <td>False</td>\n",
       "      <td>finalized</td>\n",
       "      <td>1</td>\n",
       "      <td>8/19/2016 17:00:48</td>\n",
       "      <td>male</td>\n",
       "      <td>1.0</td>\n",
       "      <td>https://d1qb2nb5cznatu.cloudfront.net/users/42...</td>\n",
       "      <td>NaN</td>\n",
       "      <td>42</td>\n",
       "    </tr>\n",
       "    <tr>\n",
       "      <th>2</th>\n",
       "      <td>1023132477</td>\n",
       "      <td>False</td>\n",
       "      <td>finalized</td>\n",
       "      <td>1</td>\n",
       "      <td>8/19/2016 17:01:43</td>\n",
       "      <td>male</td>\n",
       "      <td>1.0</td>\n",
       "      <td>https://d1qb2nb5cznatu.cloudfront.net/users/44...</td>\n",
       "      <td>NaN</td>\n",
       "      <td>44</td>\n",
       "    </tr>\n",
       "    <tr>\n",
       "      <th>3</th>\n",
       "      <td>1023132478</td>\n",
       "      <td>False</td>\n",
       "      <td>finalized</td>\n",
       "      <td>1</td>\n",
       "      <td>8/19/2016 17:01:04</td>\n",
       "      <td>male</td>\n",
       "      <td>1.0</td>\n",
       "      <td>https://d1qb2nb5cznatu.cloudfront.net/users/47...</td>\n",
       "      <td>NaN</td>\n",
       "      <td>47</td>\n",
       "    </tr>\n",
       "    <tr>\n",
       "      <th>4</th>\n",
       "      <td>1023132479</td>\n",
       "      <td>False</td>\n",
       "      <td>finalized</td>\n",
       "      <td>1</td>\n",
       "      <td>8/19/2016 17:00:48</td>\n",
       "      <td>male</td>\n",
       "      <td>1.0</td>\n",
       "      <td>https://d1qb2nb5cznatu.cloudfront.net/users/50...</td>\n",
       "      <td>NaN</td>\n",
       "      <td>50</td>\n",
       "    </tr>\n",
       "  </tbody>\n",
       "</table>\n",
       "</div>"
      ],
      "text/plain": [
       "     _unit_id  _golden _unit_state  _trusted_judgments   _last_judgment_at  \\\n",
       "0  1023132475    False   finalized                   1  8/19/2016 17:00:25   \n",
       "1  1023132476    False   finalized                   1  8/19/2016 17:00:48   \n",
       "2  1023132477    False   finalized                   1  8/19/2016 17:01:43   \n",
       "3  1023132478    False   finalized                   1  8/19/2016 17:01:04   \n",
       "4  1023132479    False   finalized                   1  8/19/2016 17:00:48   \n",
       "\n",
       "  please_select_the_gender_of_the_person_in_the_picture  \\\n",
       "0                                               male      \n",
       "1                                               male      \n",
       "2                                               male      \n",
       "3                                               male      \n",
       "4                                               male      \n",
       "\n",
       "   please_select_the_gender_of_the_person_in_the_picture:confidence  \\\n",
       "0                                                1.0                  \n",
       "1                                                1.0                  \n",
       "2                                                1.0                  \n",
       "3                                                1.0                  \n",
       "4                                                1.0                  \n",
       "\n",
       "                                           image_url  \\\n",
       "0  https://d1qb2nb5cznatu.cloudfront.net/users/40...   \n",
       "1  https://d1qb2nb5cznatu.cloudfront.net/users/42...   \n",
       "2  https://d1qb2nb5cznatu.cloudfront.net/users/44...   \n",
       "3  https://d1qb2nb5cznatu.cloudfront.net/users/47...   \n",
       "4  https://d1qb2nb5cznatu.cloudfront.net/users/50...   \n",
       "\n",
       "  please_select_the_gender_of_the_person_in_the_picture_gold  user_id  \n",
       "0                                                NaN               40  \n",
       "1                                                NaN               42  \n",
       "2                                                NaN               44  \n",
       "3                                                NaN               47  \n",
       "4                                                NaN               50  "
      ]
     },
     "execution_count": 1,
     "metadata": {},
     "output_type": "execute_result"
    }
   ],
   "source": [
    "import pandas as pd \n",
    "from skimage import io\n",
    "data=pd.read_csv('C:/Users/ysp/Desktop/Deep Learning/a943287.csv')\n",
    "data.head()"
   ]
  },
  {
   "cell_type": "code",
   "execution_count": 2,
   "metadata": {},
   "outputs": [
    {
     "data": {
      "text/plain": [
       "(2000, 10)"
      ]
     },
     "execution_count": 2,
     "metadata": {},
     "output_type": "execute_result"
    }
   ],
   "source": [
    "data_male=data[data['please_select_the_gender_of_the_person_in_the_picture']=='male']\n",
    "data_female=data[data['please_select_the_gender_of_the_person_in_the_picture']=='female']\n",
    "final_data=pd.concat([data_male[:1000],data_female[:1000]], axis=0).reset_index(drop=True)\n",
    "final_data.shape"
   ]
  },
  {
   "cell_type": "code",
   "execution_count": 3,
   "metadata": {},
   "outputs": [],
   "source": [
    "x=[]\n",
    "y=[]\n",
    "for i in range(final_data.shape[0]):\n",
    "    try:\n",
    "        image=io.imread(final_data.loc[i]['image_url'])\n",
    "        if (image.shape==(300,300,3)):\n",
    "            x.append(image)\n",
    "            y.append(final_data.loc[i]['please_select_the_gender_of_the_person_in_the_picture'])\n",
    "    except:\n",
    "        continue"
   ]
  },
  {
   "cell_type": "code",
   "execution_count": 4,
   "metadata": {},
   "outputs": [
    {
     "name": "stdout",
     "output_type": "stream",
     "text": [
      "Requirement already satisfied: opencv-python in c:\\users\\ysp\\anaconda3\\lib\\site-packages (4.1.2.30)\n",
      "Requirement already satisfied: numpy>=1.14.5 in c:\\users\\ysp\\anaconda3\\lib\\site-packages (from opencv-python) (1.17.3)\n"
     ]
    }
   ],
   "source": [
    "!pip install opencv-python\n",
    "import cv2\n",
    "import numpy as np\n",
    "x2=[]\n",
    "y2=[]\n",
    "for i in range(len(x)):\n",
    "    img2=cv2.resize(x[i],(50,50))\n",
    "    x2.append(img2)\n",
    "    img_label=np.where(y[i]=='male',1,0)\n",
    "    y2.append(img_label)"
   ]
  },
  {
   "cell_type": "code",
   "execution_count": 5,
   "metadata": {},
   "outputs": [
    {
     "name": "stdout",
     "output_type": "stream",
     "text": [
      "(1745, 50, 50, 3)\n"
     ]
    }
   ],
   "source": [
    "x2=np.array(x2)\n",
    "print(x2.shape)\n",
    "y1=np.array(y2)\n",
    "x1=x2.astype('float32')/255."
   ]
  },
  {
   "cell_type": "code",
   "execution_count": 6,
   "metadata": {},
   "outputs": [
    {
     "name": "stdout",
     "output_type": "stream",
     "text": [
      "(1570, 50, 50, 3) (175, 50, 50, 3) (1570,) (175,)\n"
     ]
    }
   ],
   "source": [
    "from sklearn.model_selection import train_test_split\n",
    "x_train,x_test,y_train,y_test=train_test_split(x1,y1,test_size=0.1,random_state=1, stratify=y)\n",
    "print(x_train.shape,x_test.shape,y_train.shape,y_test.shape)"
   ]
  },
  {
   "cell_type": "code",
   "execution_count": 8,
   "metadata": {},
   "outputs": [
    {
     "data": {
      "image/png": "[encoded data removed]",
      "text/plain": [
       "<Figure size 432x288 with 1 Axes>"
      ]
     },
     "metadata": {
      "needs_background": "light"
     },
     "output_type": "display_data"
    }
   ],
   "source": [
    "import matplotlib.pyplot as plt\n",
    "plt.imshow(x_train[1])\n",
    "plt.show()"
   ]
  },
  {
   "cell_type": "code",
   "execution_count": 9,
   "metadata": {},
   "outputs": [
    {
     "name": "stderr",
     "output_type": "stream",
     "text": [
      "Using TensorFlow backend.\n"
     ]
    },
    {
     "name": "stdout",
     "output_type": "stream",
     "text": [
      "Model: \"sequential_1\"\n",
      "_________________________________________________________________\n",
      "Layer (type)                 Output Shape              Param #   \n",
      "=================================================================\n",
      "conv2d_1 (Conv2D)            (None, 48, 48, 32)        896       \n",
      "_________________________________________________________________\n",
      "max_pooling2d_1 (MaxPooling2 (None, 24, 24, 32)        0         \n",
      "_________________________________________________________________\n",
      "conv2d_2 (Conv2D)            (None, 24, 24, 64)        18496     \n",
      "_________________________________________________________________\n",
      "max_pooling2d_2 (MaxPooling2 (None, 12, 12, 64)        0         \n",
      "_________________________________________________________________\n",
      "conv2d_3 (Conv2D)            (None, 12, 12, 128)       73856     \n",
      "_________________________________________________________________\n",
      "max_pooling2d_3 (MaxPooling2 (None, 6, 6, 128)         0         \n",
      "_________________________________________________________________\n",
      "conv2d_4 (Conv2D)            (None, 6, 6, 256)         295168    \n",
      "_________________________________________________________________\n",
      "flatten_1 (Flatten)          (None, 9216)              0         \n",
      "_________________________________________________________________\n",
      "dense_1 (Dense)              (None, 100)               921700    \n",
      "_________________________________________________________________\n",
      "dense_2 (Dense)              (None, 1)                 101       \n",
      "=================================================================\n",
      "Total params: 1,310,217\n",
      "Trainable params: 1,310,217\n",
      "Non-trainable params: 0\n",
      "_________________________________________________________________\n"
     ]
    }
   ],
   "source": [
    "from keras.layers import Conv2D, MaxPooling2D,Flatten,Dense\n",
    "from keras.models import Sequential\n",
    "model=Sequential()\n",
    "model.add(Conv2D(32,(3,3),activation='relu',input_shape=[50,50,3]))\n",
    "model.add(MaxPooling2D((2,2)))\n",
    "model.add(Conv2D(64,(3,3),activation='relu',padding='same'))\n",
    "model.add(MaxPooling2D((2,2)))\n",
    "model.add(Conv2D(128,(3,3),activation='relu',padding='same'))\n",
    "model.add(MaxPooling2D((2,2)))\n",
    "model.add(Conv2D(256,(3,3),activation='relu',padding='same'))\n",
    "model.add(Flatten())\n",
    "model.add(Dense(100,activation='relu'))\n",
    "model.add(Dense(1,activation='sigmoid'))\n",
    "model.summary()"
   ]
  },
  {
   "cell_type": "code",
   "execution_count": 10,
   "metadata": {},
   "outputs": [
    {
     "name": "stdout",
     "output_type": "stream",
     "text": [
      "Train on 1570 samples, validate on 175 samples\n",
      "Epoch 1/30\n",
      "1570/1570 [==============================] - 3s 2ms/step - loss: 0.6758 - acc: 0.5917 - val_loss: 0.6334 - val_acc: 0.6514\n",
      "Epoch 2/30\n",
      "1570/1570 [==============================] - 2s 2ms/step - loss: 0.5949 - acc: 0.6841 - val_loss: 0.6277 - val_acc: 0.6514\n",
      "Epoch 3/30\n",
      "1570/1570 [==============================] - 2s 1ms/step - loss: 0.5277 - acc: 0.7318 - val_loss: 0.5466 - val_acc: 0.7200\n",
      "Epoch 4/30\n",
      "1570/1570 [==============================] - 2s 1ms/step - loss: 0.4738 - acc: 0.7618 - val_loss: 0.5384 - val_acc: 0.7257\n",
      "Epoch 5/30\n",
      "1570/1570 [==============================] - 2s 1ms/step - loss: 0.4068 - acc: 0.8089 - val_loss: 0.4852 - val_acc: 0.7657\n",
      "Epoch 6/30\n",
      "1570/1570 [==============================] - 2s 1ms/step - loss: 0.3450 - acc: 0.8478 - val_loss: 0.4742 - val_acc: 0.7657\n",
      "Epoch 7/30\n",
      "1570/1570 [==============================] - 2s 1ms/step - loss: 0.2865 - acc: 0.8790 - val_loss: 0.5484 - val_acc: 0.7657\n",
      "Epoch 8/30\n",
      "1570/1570 [==============================] - 2s 1ms/step - loss: 0.2083 - acc: 0.9172 - val_loss: 0.6206 - val_acc: 0.7657\n",
      "Epoch 9/30\n",
      "1570/1570 [==============================] - 2s 2ms/step - loss: 0.1244 - acc: 0.9554 - val_loss: 0.6988 - val_acc: 0.7771\n",
      "Epoch 10/30\n",
      "1570/1570 [==============================] - 2s 1ms/step - loss: 0.0872 - acc: 0.9752 - val_loss: 0.6695 - val_acc: 0.8000\n",
      "Epoch 11/30\n",
      "1570/1570 [==============================] - 2s 1ms/step - loss: 0.0472 - acc: 0.9860 - val_loss: 0.8183 - val_acc: 0.8171\n",
      "Epoch 12/30\n",
      "1570/1570 [==============================] - 2s 1ms/step - loss: 0.0343 - acc: 0.9898 - val_loss: 0.8735 - val_acc: 0.7886\n",
      "Epoch 13/30\n",
      "1570/1570 [==============================] - 2s 1ms/step - loss: 0.0653 - acc: 0.9758 - val_loss: 0.7030 - val_acc: 0.7829\n",
      "Epoch 14/30\n",
      "1570/1570 [==============================] - 2s 1ms/step - loss: 0.0537 - acc: 0.9815 - val_loss: 1.1031 - val_acc: 0.7657\n",
      "Epoch 15/30\n",
      "1570/1570 [==============================] - 2s 1ms/step - loss: 0.0377 - acc: 0.9847 - val_loss: 1.0909 - val_acc: 0.8057\n",
      "Epoch 16/30\n",
      "1570/1570 [==============================] - 2s 1ms/step - loss: 0.0371 - acc: 0.9866 - val_loss: 1.0856 - val_acc: 0.7829\n",
      "Epoch 17/30\n",
      "1570/1570 [==============================] - 2s 1ms/step - loss: 0.0230 - acc: 0.9930 - val_loss: 1.2930 - val_acc: 0.7657\n",
      "Epoch 18/30\n",
      "1570/1570 [==============================] - 2s 1ms/step - loss: 0.0137 - acc: 0.9975 - val_loss: 1.2764 - val_acc: 0.7714\n",
      "Epoch 19/30\n",
      "1570/1570 [==============================] - 2s 1ms/step - loss: 0.0341 - acc: 0.9860 - val_loss: 1.2206 - val_acc: 0.7886\n",
      "Epoch 20/30\n",
      "1570/1570 [==============================] - 2s 1ms/step - loss: 0.0297 - acc: 0.9911 - val_loss: 1.2509 - val_acc: 0.7829\n",
      "Epoch 21/30\n",
      "1570/1570 [==============================] - 2s 1ms/step - loss: 0.0073 - acc: 0.9981 - val_loss: 1.6376 - val_acc: 0.7600\n",
      "Epoch 22/30\n",
      "1570/1570 [==============================] - 2s 1ms/step - loss: 0.0056 - acc: 0.9987 - val_loss: 1.5797 - val_acc: 0.7714\n",
      "Epoch 23/30\n",
      "1570/1570 [==============================] - 2s 1ms/step - loss: 0.0024 - acc: 0.9994 - val_loss: 1.4148 - val_acc: 0.7943\n",
      "Epoch 24/30\n",
      "1570/1570 [==============================] - 2s 1ms/step - loss: 7.8487e-04 - acc: 1.0000 - val_loss: 1.4056 - val_acc: 0.7886\n",
      "Epoch 25/30\n",
      "1570/1570 [==============================] - 2s 1ms/step - loss: 2.9174e-04 - acc: 1.0000 - val_loss: 1.4641 - val_acc: 0.7943\n",
      "Epoch 26/30\n",
      "1570/1570 [==============================] - 2s 1ms/step - loss: 1.2354e-04 - acc: 1.0000 - val_loss: 1.4850 - val_acc: 0.7943\n",
      "Epoch 27/30\n",
      "1570/1570 [==============================] - 2s 1ms/step - loss: 9.4697e-05 - acc: 1.0000 - val_loss: 1.5035 - val_acc: 0.7886\n",
      "Epoch 28/30\n",
      "1570/1570 [==============================] - 2s 1ms/step - loss: 8.0102e-05 - acc: 1.0000 - val_loss: 1.5203 - val_acc: 0.7886\n",
      "Epoch 29/30\n",
      "1570/1570 [==============================] - 2s 1ms/step - loss: 6.9657e-05 - acc: 1.0000 - val_loss: 1.5362 - val_acc: 0.7943\n",
      "Epoch 30/30\n",
      "1570/1570 [==============================] - 2s 2ms/step - loss: 6.1739e-05 - acc: 1.0000 - val_loss: 1.5522 - val_acc: 0.7943\n",
      "175/175 [==============================] - 0s 345us/step\n",
      "[1.552237205505371, 0.7942857146263123]\n"
     ]
    }
   ],
   "source": [
    "model.compile(loss='binary_crossentropy',optimizer='adam', metrics=['acc'])\n",
    "result=model.fit(x_train,y_train,batch_size=32,epochs=30,validation_data=(x_test,y_test))\n",
    "score=model.evaluate(x_test,y_test)\n",
    "print(score)"
   ]
  },
  {
   "cell_type": "code",
   "execution_count": 15,
   "metadata": {},
   "outputs": [
    {
     "data": {
      "image/png": "[encoded data removed]",
      "text/plain": [
       "<Figure size 432x288 with 1 Axes>"
      ]
     },
     "metadata": {
      "needs_background": "light"
     },
     "output_type": "display_data"
    },
    {
     "data": {
      "image/png": "[encoded data removed]",
      "text/plain": [
       "<Figure size 432x288 with 1 Axes>"
      ]
     },
     "metadata": {
      "needs_background": "light"
     },
     "output_type": "display_data"
    }
   ],
   "source": [
    "import matplotlib.pyplot as plt\n",
    "acc=result.history['acc']\n",
    "val_acc=result.history['val_acc']\n",
    "loss=result.history['loss']\n",
    "val_loss=result.history['val_loss']\n",
    "epochs=range(1,len(acc)+1)\n",
    "plt.plot(epochs,acc,'bo',label='training accuracy')\n",
    "plt.plot(epochs, val_acc,'b',label='validation accuracy')\n",
    "plt.title('training and validation accuracy')\n",
    "plt.legend()\n",
    "plt.figure()\n",
    "plt.plot(epochs,loss,'bo',label='training loss')\n",
    "plt.plot(epochs, val_loss,'b',label='validation loss')\n",
    "plt.title('training and validation loss')\n",
    "plt.legend()\n",
    "plt.show()"
   ]
  },
  {
   "cell_type": "code",
   "execution_count": 14,
   "metadata": {},
   "outputs": [
    {
     "name": "stdout",
     "output_type": "stream",
     "text": [
      "(1745, 300, 300, 3)\n",
      "(1570, 300, 300, 3) (175, 300, 300, 3) (1570,) (175,)\n",
      "Model: \"sequential_2\"\n",
      "_________________________________________________________________\n",
      "Layer (type)                 Output Shape              Param #   \n",
      "=================================================================\n",
      "conv2d_5 (Conv2D)            (None, 298, 298, 32)      896       \n",
      "_________________________________________________________________\n",
      "max_pooling2d_4 (MaxPooling2 (None, 149, 149, 32)      0         \n",
      "_________________________________________________________________\n",
      "conv2d_6 (Conv2D)            (None, 149, 149, 64)      18496     \n",
      "_________________________________________________________________\n",
      "max_pooling2d_5 (MaxPooling2 (None, 74, 74, 64)        0         \n",
      "_________________________________________________________________\n",
      "conv2d_7 (Conv2D)            (None, 74, 74, 128)       73856     \n",
      "_________________________________________________________________\n",
      "max_pooling2d_6 (MaxPooling2 (None, 37, 37, 128)       0         \n",
      "_________________________________________________________________\n",
      "conv2d_8 (Conv2D)            (None, 37, 37, 256)       295168    \n",
      "_________________________________________________________________\n",
      "flatten_2 (Flatten)          (None, 350464)            0         \n",
      "_________________________________________________________________\n",
      "dense_3 (Dense)              (None, 100)               35046500  \n",
      "_________________________________________________________________\n",
      "dense_4 (Dense)              (None, 1)                 101       \n",
      "=================================================================\n",
      "Total params: 35,435,017\n",
      "Trainable params: 35,435,017\n",
      "Non-trainable params: 0\n",
      "_________________________________________________________________\n",
      "Train on 1570 samples, validate on 175 samples\n",
      "Epoch 1/30\n",
      "1570/1570 [==============================] - 72s 46ms/step - loss: 0.8200 - acc: 0.4930 - val_loss: 0.6929 - val_acc: 0.5143\n",
      "Epoch 2/30\n",
      "1570/1570 [==============================] - 71s 45ms/step - loss: 0.6842 - acc: 0.5656 - val_loss: 0.6644 - val_acc: 0.6457\n",
      "Epoch 3/30\n",
      "1570/1570 [==============================] - 71s 45ms/step - loss: 0.6405 - acc: 0.6318 - val_loss: 0.7037 - val_acc: 0.5429\n",
      "Epoch 4/30\n",
      "1570/1570 [==============================] - 71s 45ms/step - loss: 0.6198 - acc: 0.6529 - val_loss: 0.6623 - val_acc: 0.6286\n",
      "Epoch 5/30\n",
      "1570/1570 [==============================] - 71s 45ms/step - loss: 0.5942 - acc: 0.6866 - val_loss: 0.7331 - val_acc: 0.5829\n",
      "Epoch 6/30\n",
      "1570/1570 [==============================] - 71s 45ms/step - loss: 0.5419 - acc: 0.7064 - val_loss: 0.6848 - val_acc: 0.6514\n",
      "Epoch 7/30\n",
      "1570/1570 [==============================] - 71s 45ms/step - loss: 0.4942 - acc: 0.7618 - val_loss: 0.7099 - val_acc: 0.6286\n",
      "Epoch 8/30\n",
      "1570/1570 [==============================] - 71s 45ms/step - loss: 0.4113 - acc: 0.8032 - val_loss: 1.1339 - val_acc: 0.5886\n",
      "Epoch 9/30\n",
      "1570/1570 [==============================] - 71s 45ms/step - loss: 0.3372 - acc: 0.8389 - val_loss: 1.2040 - val_acc: 0.6171\n",
      "Epoch 10/30\n",
      "1570/1570 [==============================] - 71s 45ms/step - loss: 0.2596 - acc: 0.8879 - val_loss: 1.1975 - val_acc: 0.6514\n",
      "Epoch 11/30\n",
      "1570/1570 [==============================] - 71s 45ms/step - loss: 0.1494 - acc: 0.9382 - val_loss: 1.5240 - val_acc: 0.6400\n",
      "Epoch 12/30\n",
      "1570/1570 [==============================] - 71s 45ms/step - loss: 0.0953 - acc: 0.9580 - val_loss: 1.9019 - val_acc: 0.6229\n",
      "Epoch 13/30\n",
      "1570/1570 [==============================] - 71s 45ms/step - loss: 0.0515 - acc: 0.9790 - val_loss: 2.5157 - val_acc: 0.6629\n",
      "Epoch 14/30\n",
      "1570/1570 [==============================] - 71s 45ms/step - loss: 0.0520 - acc: 0.9809 - val_loss: 2.1847 - val_acc: 0.6629\n",
      "Epoch 15/30\n",
      "1570/1570 [==============================] - 71s 45ms/step - loss: 0.0505 - acc: 0.9847 - val_loss: 2.3705 - val_acc: 0.6800\n",
      "Epoch 16/30\n",
      "1570/1570 [==============================] - 71s 45ms/step - loss: 0.0306 - acc: 0.9885 - val_loss: 3.0631 - val_acc: 0.6914\n",
      "Epoch 17/30\n",
      "1570/1570 [==============================] - 71s 45ms/step - loss: 0.0052 - acc: 0.9987 - val_loss: 3.5970 - val_acc: 0.6971\n",
      "Epoch 18/30\n",
      "1570/1570 [==============================] - 71s 45ms/step - loss: 0.0016 - acc: 1.0000 - val_loss: 3.8640 - val_acc: 0.6800\n",
      "Epoch 19/30\n",
      "1570/1570 [==============================] - 71s 45ms/step - loss: 6.4702e-04 - acc: 1.0000 - val_loss: 4.0963 - val_acc: 0.6800\n",
      "Epoch 20/30\n",
      "1570/1570 [==============================] - 71s 45ms/step - loss: 3.2805e-04 - acc: 1.0000 - val_loss: 4.3007 - val_acc: 0.6914\n",
      "Epoch 21/30\n",
      "1570/1570 [==============================] - 71s 45ms/step - loss: 2.5491e-04 - acc: 1.0000 - val_loss: 4.3125 - val_acc: 0.6800\n",
      "Epoch 22/30\n",
      "1570/1570 [==============================] - 71s 45ms/step - loss: 1.6676e-04 - acc: 1.0000 - val_loss: 4.4150 - val_acc: 0.6800\n",
      "Epoch 23/30\n",
      "1570/1570 [==============================] - 71s 45ms/step - loss: 1.2913e-04 - acc: 1.0000 - val_loss: 4.5683 - val_acc: 0.6743\n",
      "Epoch 24/30\n",
      "1570/1570 [==============================] - 71s 45ms/step - loss: 8.3578e-05 - acc: 1.0000 - val_loss: 4.6548 - val_acc: 0.6629\n",
      "Epoch 25/30\n",
      "1570/1570 [==============================] - 71s 45ms/step - loss: 6.2163e-05 - acc: 1.0000 - val_loss: 4.7046 - val_acc: 0.6800\n",
      "Epoch 26/30\n",
      "1570/1570 [==============================] - 71s 45ms/step - loss: 4.9403e-05 - acc: 1.0000 - val_loss: 4.8073 - val_acc: 0.6686\n",
      "Epoch 27/30\n",
      "1570/1570 [==============================] - 71s 45ms/step - loss: 3.9513e-05 - acc: 1.0000 - val_loss: 4.8670 - val_acc: 0.6686\n",
      "Epoch 28/30\n",
      "1570/1570 [==============================] - 71s 45ms/step - loss: 3.3831e-05 - acc: 1.0000 - val_loss: 4.9001 - val_acc: 0.6686\n",
      "Epoch 29/30\n",
      "1570/1570 [==============================] - 71s 45ms/step - loss: 2.7483e-05 - acc: 1.0000 - val_loss: 4.9626 - val_acc: 0.6686\n",
      "Epoch 30/30\n",
      "1570/1570 [==============================] - 71s 45ms/step - loss: 2.3139e-05 - acc: 1.0000 - val_loss: 4.9972 - val_acc: 0.6686\n",
      "175/175 [==============================] - 2s 10ms/step\n",
      "[4.997179693494524, 0.668571412563324]\n"
     ]
    }
   ],
   "source": [
    "import cv2\n",
    "import numpy as np\n",
    "x4=[]\n",
    "y4=[]\n",
    "for i in range(len(x)):\n",
    "    img2=cv2.resize(x[i],(300,300))\n",
    "    x4.append(img2)\n",
    "    img_label=np.where(y[i]=='male',1,0)\n",
    "    y4.append(img_label)\n",
    "x4=np.array(x4)\n",
    "print(x4.shape)\n",
    "y3=np.array(y4)\n",
    "x3=x4.astype('float32')/255.\n",
    "from sklearn.model_selection import train_test_split\n",
    "x_train,x_test,y_train,y_test=train_test_split(x3,y3,test_size=0.1,random_state=1, stratify=y)\n",
    "print(x_train.shape,x_test.shape,y_train.shape,y_test.shape)\n",
    "from keras.layers import Conv2D, MaxPooling2D,Flatten,Dense\n",
    "from keras.models import Sequential\n",
    "model=Sequential()\n",
    "model.add(Conv2D(32,(3,3),activation='relu',input_shape=[300,300,3]))\n",
    "model.add(MaxPooling2D((2,2)))\n",
    "model.add(Conv2D(64,(3,3),activation='relu',padding='same'))\n",
    "model.add(MaxPooling2D((2,2)))\n",
    "model.add(Conv2D(128,(3,3),activation='relu',padding='same'))\n",
    "model.add(MaxPooling2D((2,2)))\n",
    "model.add(Conv2D(256,(3,3),activation='relu',padding='same'))\n",
    "model.add(Flatten())\n",
    "model.add(Dense(100,activation='relu'))\n",
    "model.add(Dense(1,activation='sigmoid'))\n",
    "model.summary()\n",
    "model.compile(loss='binary_crossentropy',optimizer='adam', metrics=['acc'])\n",
    "result=model.fit(x_train,y_train,batch_size=32,epochs=30,validation_data=(x_test,y_test))\n",
    "score=model.evaluate(x_test,y_test)\n",
    "print(score)"
   ]
  },
  {
   "cell_type": "code",
   "execution_count": 16,
   "metadata": {},
   "outputs": [
    {
     "data": {
      "image/png": "[encoded data removed]",
      "text/plain": [
       "<Figure size 432x288 with 1 Axes>"
      ]
     },
     "metadata": {
      "needs_background": "light"
     },
     "output_type": "display_data"
    },
    {
     "data": {
      "image/png": "[encoded data removed]",
      "text/plain": [
       "<Figure size 432x288 with 1 Axes>"
      ]
     },
     "metadata": {
      "needs_background": "light"
     },
     "output_type": "display_data"
    }
   ],
   "source": [
    "import matplotlib.pyplot as plt\n",
    "acc=result.history['acc']\n",
    "val_acc=result.history['val_acc']\n",
    "loss=result.history['loss']\n",
    "val_loss=result.history['val_loss']\n",
    "epochs=range(1,len(acc)+1)\n",
    "plt.plot(epochs,acc,'bo',label='training accuracy')\n",
    "plt.plot(epochs, val_acc,'b',label='validation accuracy')\n",
    "plt.title('training and validation accuracy')\n",
    "plt.legend()\n",
    "plt.figure()\n",
    "plt.plot(epochs,loss,'bo',label='training loss')\n",
    "plt.plot(epochs, val_loss,'b',label='validation loss')\n",
    "plt.title('training and validation loss')\n",
    "plt.legend()\n",
    "plt.show()"
   ]
  },
  {
   "cell_type": "code",
   "execution_count": 17,
   "metadata": {},
   "outputs": [
    {
     "name": "stdout",
     "output_type": "stream",
     "text": [
      "Model: \"vgg16\"\n",
      "_________________________________________________________________\n",
      "Layer (type)                 Output Shape              Param #   \n",
      "=================================================================\n",
      "input_1 (InputLayer)         (None, 300, 300, 3)       0         \n",
      "_________________________________________________________________\n",
      "block1_conv1 (Conv2D)        (None, 300, 300, 64)      1792      \n",
      "_________________________________________________________________\n",
      "block1_conv2 (Conv2D)        (None, 300, 300, 64)      36928     \n",
      "_________________________________________________________________\n",
      "block1_pool (MaxPooling2D)   (None, 150, 150, 64)      0         \n",
      "_________________________________________________________________\n",
      "block2_conv1 (Conv2D)        (None, 150, 150, 128)     73856     \n",
      "_________________________________________________________________\n",
      "block2_conv2 (Conv2D)        (None, 150, 150, 128)     147584    \n",
      "_________________________________________________________________\n",
      "block2_pool (MaxPooling2D)   (None, 75, 75, 128)       0         \n",
      "_________________________________________________________________\n",
      "block3_conv1 (Conv2D)        (None, 75, 75, 256)       295168    \n",
      "_________________________________________________________________\n",
      "block3_conv2 (Conv2D)        (None, 75, 75, 256)       590080    \n",
      "_________________________________________________________________\n",
      "block3_conv3 (Conv2D)        (None, 75, 75, 256)       590080    \n",
      "_________________________________________________________________\n",
      "block3_pool (MaxPooling2D)   (None, 37, 37, 256)       0         \n",
      "_________________________________________________________________\n",
      "block4_conv1 (Conv2D)        (None, 37, 37, 512)       1180160   \n",
      "_________________________________________________________________\n",
      "block4_conv2 (Conv2D)        (None, 37, 37, 512)       2359808   \n",
      "_________________________________________________________________\n",
      "block4_conv3 (Conv2D)        (None, 37, 37, 512)       2359808   \n",
      "_________________________________________________________________\n",
      "block4_pool (MaxPooling2D)   (None, 18, 18, 512)       0         \n",
      "_________________________________________________________________\n",
      "block5_conv1 (Conv2D)        (None, 18, 18, 512)       2359808   \n",
      "_________________________________________________________________\n",
      "block5_conv2 (Conv2D)        (None, 18, 18, 512)       2359808   \n",
      "_________________________________________________________________\n",
      "block5_conv3 (Conv2D)        (None, 18, 18, 512)       2359808   \n",
      "_________________________________________________________________\n",
      "block5_pool (MaxPooling2D)   (None, 9, 9, 512)         0         \n",
      "=================================================================\n",
      "Total params: 14,714,688\n",
      "Trainable params: 14,714,688\n",
      "Non-trainable params: 0\n",
      "_________________________________________________________________\n"
     ]
    }
   ],
   "source": [
    "from keras.applications import VGG16\n",
    "vgg16_model=VGG16(weights='imagenet',include_top=False,input_shape=(300,300,3))\n",
    "vgg16_model.summary()"
   ]
  },
  {
   "cell_type": "code",
   "execution_count": 20,
   "metadata": {},
   "outputs": [],
   "source": [
    "import cv2\n",
    "from keras.applications.vgg16 import preprocess_input\n",
    "x5_vgg16=[]\n",
    "y5=[]\n",
    "for i in range(len(x)):\n",
    "    img=x[i]\n",
    "    img=preprocess_input(img.reshape(1,300,300,3))\n",
    "    img_new=vgg16_model.predict(img)\n",
    "    x5_vgg16.append(img_new)\n",
    "    img_label=np.where(y[i]=='male',1,0)\n",
    "    y5.append(img_label)"
   ]
  },
  {
   "cell_type": "code",
   "execution_count": 22,
   "metadata": {},
   "outputs": [
    {
     "name": "stdout",
     "output_type": "stream",
     "text": [
      "(1745, 1, 9, 9, 512)\n"
     ]
    }
   ],
   "source": [
    "x5_vgg16=np.array(x5_vgg16)\n",
    "print(x5_vgg16.shape)\n",
    "x5_vgg16=x5_vgg16.reshape(x5_vgg16.shape[0],x5_vgg16.shape[2],x5_vgg16.shape[3],x5_vgg16.shape[4])\n",
    "y5=np.array(y5)"
   ]
  },
  {
   "cell_type": "code",
   "execution_count": 23,
   "metadata": {},
   "outputs": [],
   "source": [
    "from sklearn.model_selection import train_test_split\n",
    "x_train,x_test,y_train,y_test=train_test_split(x5_vgg16,y5,test_size=0.1,random_state=1, stratify=y5)\n"
   ]
  },
  {
   "cell_type": "code",
   "execution_count": 24,
   "metadata": {},
   "outputs": [
    {
     "name": "stdout",
     "output_type": "stream",
     "text": [
      "Model: \"sequential_3\"\n",
      "_________________________________________________________________\n",
      "Layer (type)                 Output Shape              Param #   \n",
      "=================================================================\n",
      "conv2d_9 (Conv2D)            (None, 7, 7, 512)         2359808   \n",
      "_________________________________________________________________\n",
      "max_pooling2d_7 (MaxPooling2 (None, 3, 3, 512)         0         \n",
      "_________________________________________________________________\n",
      "flatten_3 (Flatten)          (None, 4608)              0         \n",
      "_________________________________________________________________\n",
      "dense_5 (Dense)              (None, 512)               2359808   \n",
      "_________________________________________________________________\n",
      "dropout_1 (Dropout)          (None, 512)               0         \n",
      "_________________________________________________________________\n",
      "dense_6 (Dense)              (None, 1)                 513       \n",
      "=================================================================\n",
      "Total params: 4,720,129\n",
      "Trainable params: 4,720,129\n",
      "Non-trainable params: 0\n",
      "_________________________________________________________________\n"
     ]
    }
   ],
   "source": [
    "from keras.layers import Conv2D, MaxPooling2D,Flatten,Dense,Flatten, Dropout\n",
    "from keras.models import Sequential\n",
    "modelvgg16=Sequential()\n",
    "modelvgg16.add(Conv2D(512,(3,3),activation='relu',input_shape=(x_train.shape[1],x_train.shape[2],x_train.shape[3])))\n",
    "modelvgg16.add(MaxPooling2D((2,2)))\n",
    "modelvgg16.add(Flatten())\n",
    "modelvgg16.add(Dense(512,activation='relu'))\n",
    "modelvgg16.add(Dropout(0.5))\n",
    "modelvgg16.add(Dense(1,activation='sigmoid'))\n",
    "modelvgg16.summary()"
   ]
  },
  {
   "cell_type": "code",
   "execution_count": 25,
   "metadata": {},
   "outputs": [
    {
     "name": "stdout",
     "output_type": "stream",
     "text": [
      "Train on 1570 samples, validate on 175 samples\n",
      "Epoch 1/20\n",
      "1570/1570 [==============================] - 4s 3ms/step - loss: 0.4168 - accuracy: 0.8153 - val_loss: 0.2452 - val_accuracy: 0.9200\n",
      "Epoch 2/20\n",
      "1570/1570 [==============================] - 4s 3ms/step - loss: 0.1572 - accuracy: 0.9382 - val_loss: 0.2369 - val_accuracy: 0.9314\n",
      "Epoch 3/20\n",
      "1570/1570 [==============================] - 4s 3ms/step - loss: 0.0575 - accuracy: 0.9828 - val_loss: 0.3223 - val_accuracy: 0.9143\n",
      "Epoch 4/20\n",
      "1570/1570 [==============================] - 4s 3ms/step - loss: 0.0197 - accuracy: 0.9968 - val_loss: 0.3431 - val_accuracy: 0.9200\n",
      "Epoch 5/20\n",
      "1570/1570 [==============================] - 4s 3ms/step - loss: 0.0068 - accuracy: 1.0000 - val_loss: 0.4181 - val_accuracy: 0.9143\n",
      "Epoch 6/20\n",
      "1570/1570 [==============================] - 4s 3ms/step - loss: 0.0030 - accuracy: 1.0000 - val_loss: 0.4258 - val_accuracy: 0.9086\n",
      "Epoch 7/20\n",
      "1570/1570 [==============================] - 4s 3ms/step - loss: 0.0013 - accuracy: 1.0000 - val_loss: 0.4496 - val_accuracy: 0.9143\n",
      "Epoch 8/20\n",
      "1570/1570 [==============================] - 4s 3ms/step - loss: 0.0011 - accuracy: 1.0000 - val_loss: 0.4689 - val_accuracy: 0.9086\n",
      "Epoch 9/20\n",
      "1570/1570 [==============================] - 4s 3ms/step - loss: 9.1341e-04 - accuracy: 1.0000 - val_loss: 0.4978 - val_accuracy: 0.9086\n",
      "Epoch 10/20\n",
      "1570/1570 [==============================] - 4s 3ms/step - loss: 5.2948e-04 - accuracy: 1.0000 - val_loss: 0.5065 - val_accuracy: 0.9086\n",
      "Epoch 11/20\n",
      "1570/1570 [==============================] - 4s 2ms/step - loss: 3.3434e-04 - accuracy: 1.0000 - val_loss: 0.5182 - val_accuracy: 0.9086\n",
      "Epoch 12/20\n",
      "1570/1570 [==============================] - 4s 3ms/step - loss: 2.9690e-04 - accuracy: 1.0000 - val_loss: 0.5283 - val_accuracy: 0.9086\n",
      "Epoch 13/20\n",
      "1570/1570 [==============================] - 4s 3ms/step - loss: 2.8995e-04 - accuracy: 1.0000 - val_loss: 0.5338 - val_accuracy: 0.9086\n",
      "Epoch 14/20\n",
      "1570/1570 [==============================] - 4s 3ms/step - loss: 1.9754e-04 - accuracy: 1.0000 - val_loss: 0.5404 - val_accuracy: 0.9086\n",
      "Epoch 15/20\n",
      "1570/1570 [==============================] - 4s 3ms/step - loss: 1.5991e-04 - accuracy: 1.0000 - val_loss: 0.5523 - val_accuracy: 0.9086\n",
      "Epoch 16/20\n",
      "1570/1570 [==============================] - 4s 3ms/step - loss: 1.2844e-04 - accuracy: 1.0000 - val_loss: 0.5632 - val_accuracy: 0.9086\n",
      "Epoch 17/20\n",
      "1570/1570 [==============================] - 4s 3ms/step - loss: 1.2595e-04 - accuracy: 1.0000 - val_loss: 0.5709 - val_accuracy: 0.9086\n",
      "Epoch 18/20\n",
      "1570/1570 [==============================] - 4s 3ms/step - loss: 1.0297e-04 - accuracy: 1.0000 - val_loss: 0.5868 - val_accuracy: 0.9086\n",
      "Epoch 19/20\n",
      "1570/1570 [==============================] - 4s 3ms/step - loss: 9.0810e-05 - accuracy: 1.0000 - val_loss: 0.5883 - val_accuracy: 0.9086\n",
      "Epoch 20/20\n",
      "1570/1570 [==============================] - 4s 3ms/step - loss: 9.1602e-05 - accuracy: 1.0000 - val_loss: 0.6022 - val_accuracy: 0.9086\n"
     ]
    }
   ],
   "source": [
    "modelvgg16.compile(loss='binary_crossentropy', optimizer='adam', metrics=['accuracy'])\n",
    "history_vgg16=modelvgg16.fit(x_train/np.max(x_train),y_train,batch_size=32,epochs=20,validation_data=(x_test/np.max(x_train),y_test))"
   ]
  },
  {
   "cell_type": "code",
   "execution_count": 27,
   "metadata": {},
   "outputs": [
    {
     "data": {
      "image/png": "[encoded data removed]",
      "text/plain": [
       "<Figure size 432x288 with 1 Axes>"
      ]
     },
     "metadata": {
      "needs_background": "light"
     },
     "output_type": "display_data"
    },
    {
     "data": {
      "image/png": "[encoded data removed]",
      "text/plain": [
       "<Figure size 432x288 with 1 Axes>"
      ]
     },
     "metadata": {
      "needs_background": "light"
     },
     "output_type": "display_data"
    }
   ],
   "source": [
    "import matplotlib.pyplot as plt\n",
    "acc=history_vgg16.history['accuracy']\n",
    "val_acc=history_vgg16.history['val_accuracy']\n",
    "loss=history_vgg16.history['loss']\n",
    "val_loss=history_vgg16.history['val_loss']\n",
    "epochs=range(1,len(acc)+1)\n",
    "plt.plot(epochs,acc,'bo',label='training accuracy')\n",
    "plt.plot(epochs, val_acc,'b',label='validation accuracy')\n",
    "plt.title('training and validation accuracy')\n",
    "plt.legend()\n",
    "plt.figure()\n",
    "plt.plot(epochs,loss,'bo',label='training loss')\n",
    "plt.plot(epochs, val_loss,'b',label='validation loss')\n",
    "plt.title('training and validation loss')\n",
    "plt.legend()\n",
    "plt.show()"
   ]
  },
  {
   "cell_type": "code",
   "execution_count": null,
   "metadata": {},
   "outputs": [],
   "source": []
  }
 ],
 "metadata": {
  "kernelspec": {
   "display_name": "Python 3",
   "language": "python",
   "name": "python3"
  },
  "language_info": {
   "codemirror_mode": {
    "name": "ipython",
    "version": 3
   },
   "file_extension": ".py",
   "mimetype": "text/x-python",
   "name": "python",
   "nbconvert_exporter": "python",
   "pygments_lexer": "ipython3",
   "version": "3.7.4"
  }
 },
 "nbformat": 4,
 "nbformat_minor": 4
}
