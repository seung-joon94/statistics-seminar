{
 "cells": [
  {
   "cell_type": "code",
   "execution_count": 9,
   "metadata": {},
   "outputs": [
    {
     "name": "stdout",
     "output_type": "stream",
     "text": [
      "Model: \"sequential_7\"\n",
      "_________________________________________________________________\n",
      "Layer (type)                 Output Shape              Param #   \n",
      "=================================================================\n",
      "embedding_7 (Embedding)      (None, None, 32)          320000    \n",
      "_________________________________________________________________\n",
      "bidirectional_4 (Bidirection (None, 64)                16640     \n",
      "_________________________________________________________________\n",
      "dense_5 (Dense)              (None, 1)                 65        \n",
      "=================================================================\n",
      "Total params: 336,705\n",
      "Trainable params: 336,705\n",
      "Non-trainable params: 0\n",
      "_________________________________________________________________\n"
     ]
    },
    {
     "name": "stderr",
     "output_type": "stream",
     "text": [
      "C:\\Users\\ysp\\anaconda3\\lib\\site-packages\\tensorflow_core\\python\\framework\\indexed_slices.py:424: UserWarning: Converting sparse IndexedSlices to a dense Tensor of unknown shape. This may consume a large amount of memory.\n",
      "  \"Converting sparse IndexedSlices to a dense Tensor of unknown shape. \"\n"
     ]
    },
    {
     "name": "stdout",
     "output_type": "stream",
     "text": [
      "Epoch 1/10\n",
      "25000/25000 [==============================] - 147s 6ms/step - loss: 0.5443 - acc: 0.7370\n",
      "Epoch 2/10\n",
      "25000/25000 [==============================] - 154s 6ms/step - loss: 0.3379 - acc: 0.8621\n",
      "Epoch 3/10\n",
      "25000/25000 [==============================] - 155s 6ms/step - loss: 0.2588 - acc: 0.8980\n",
      "Epoch 4/10\n",
      "25000/25000 [==============================] - 155s 6ms/step - loss: 0.2191 - acc: 0.9194\n",
      "Epoch 5/10\n",
      "25000/25000 [==============================] - 156s 6ms/step - loss: 0.1937 - acc: 0.9298\n",
      "Epoch 6/10\n",
      "25000/25000 [==============================] - 156s 6ms/step - loss: 0.1711 - acc: 0.9385\n",
      "Epoch 7/10\n",
      "25000/25000 [==============================] - 158s 6ms/step - loss: 0.1555 - acc: 0.9451\n",
      "Epoch 8/10\n",
      "25000/25000 [==============================] - 156s 6ms/step - loss: 0.1465 - acc: 0.9477\n",
      "Epoch 9/10\n",
      "25000/25000 [==============================] - 156s 6ms/step - loss: 0.1319 - acc: 0.9550\n",
      "Epoch 10/10\n",
      "25000/25000 [==============================] - 156s 6ms/step - loss: 0.1241 - acc: 0.9580\n",
      "25000/25000 [==============================] - 36s 1ms/step\n",
      "25000/25000 [==============================] - 32s 1ms/step\n",
      "[0.10423608524084091, 0.9620000123977661]\n",
      "[0.44331171208381653, 0.8578400015830994]\n"
     ]
    }
   ],
   "source": [
    "from keras.datasets import imdb\n",
    "from keras.preprocessing import sequence\n",
    "from keras.layers import Embedding, Bidirectional, Dense, LSTM\n",
    "from keras.models import Sequential\n",
    "max_features=10000\n",
    "lenmax=700\n",
    "(x_train,y_train),(x_test,y_test)=imdb.load_data(num_words=max_features)\n",
    "x_train=sequence.pad_sequences(x_train,maxlen=lenmax)\n",
    "x_test=sequence.pad_sequences(x_test,maxlen=lenmax)\n",
    "m_bd=Sequential()\n",
    "m_bd.add(Embedding(max_features,32))\n",
    "m_bd.add(Bidirectional(LSTM(32),merge_mode='concat'))\n",
    "m_bd.add(Dense(1, activation='sigmoid'))\n",
    "m_bd.summary()\n",
    "m_bd.compile(optimizer='rmsprop',loss='binary_crossentropy',metrics=['acc'])\n",
    "m_bd.fit(x_train,y_train, epochs=10,batch_size=128)\n",
    "tr_loss_acc=m_bd.evaluate(x_train,y_train)\n",
    "test_loss_acc=m_bd.evaluate(x_test,y_test)\n",
    "print(tr_loss_acc)\n",
    "print(test_loss_acc)"
   ]
  },
  {
   "cell_type": "code",
   "execution_count": 11,
   "metadata": {},
   "outputs": [
    {
     "name": "stdout",
     "output_type": "stream",
     "text": [
      "Model: \"sequential_9\"\n",
      "_________________________________________________________________\n",
      "Layer (type)                 Output Shape              Param #   \n",
      "=================================================================\n",
      "embedding_9 (Embedding)      (None, 700, 32)           320000    \n",
      "_________________________________________________________________\n",
      "dropout_1 (Dropout)          (None, 700, 32)           0         \n",
      "_________________________________________________________________\n",
      "conv1d_6 (Conv1D)            (None, 694, 32)           7200      \n",
      "_________________________________________________________________\n",
      "max_pooling1d_3 (MaxPooling1 (None, 138, 32)           0         \n",
      "_________________________________________________________________\n",
      "conv1d_7 (Conv1D)            (None, 132, 32)           7200      \n",
      "_________________________________________________________________\n",
      "global_max_pooling1d_3 (Glob (None, 32)                0         \n",
      "_________________________________________________________________\n",
      "dense_7 (Dense)              (None, 1)                 33        \n",
      "=================================================================\n",
      "Total params: 334,433\n",
      "Trainable params: 334,433\n",
      "Non-trainable params: 0\n",
      "_________________________________________________________________\n"
     ]
    },
    {
     "name": "stderr",
     "output_type": "stream",
     "text": [
      "C:\\Users\\ysp\\anaconda3\\lib\\site-packages\\tensorflow_core\\python\\framework\\indexed_slices.py:424: UserWarning: Converting sparse IndexedSlices to a dense Tensor of unknown shape. This may consume a large amount of memory.\n",
      "  \"Converting sparse IndexedSlices to a dense Tensor of unknown shape. \"\n"
     ]
    },
    {
     "name": "stdout",
     "output_type": "stream",
     "text": [
      "Epoch 1/10\n",
      "25000/25000 [==============================] - 15s 597us/step - loss: 0.5399 - acc: 0.7088\n",
      "Epoch 2/10\n",
      "25000/25000 [==============================] - 15s 595us/step - loss: 0.2949 - acc: 0.8779\n",
      "Epoch 3/10\n",
      "25000/25000 [==============================] - 15s 598us/step - loss: 0.2390 - acc: 0.9050\n",
      "Epoch 4/10\n",
      "25000/25000 [==============================] - 15s 596us/step - loss: 0.2030 - acc: 0.9210\n",
      "Epoch 5/10\n",
      "25000/25000 [==============================] - 15s 597us/step - loss: 0.1775 - acc: 0.9323\n",
      "Epoch 6/10\n",
      "25000/25000 [==============================] - 15s 597us/step - loss: 0.1557 - acc: 0.9408\n",
      "Epoch 7/10\n",
      "25000/25000 [==============================] - 15s 598us/step - loss: 0.1365 - acc: 0.9499\n",
      "Epoch 8/10\n",
      "25000/25000 [==============================] - 15s 598us/step - loss: 0.1194 - acc: 0.9577\n",
      "Epoch 9/10\n",
      "25000/25000 [==============================] - 15s 599us/step - loss: 0.1054 - acc: 0.9641\n",
      "Epoch 10/10\n",
      "25000/25000 [==============================] - 15s 599us/step - loss: 0.0924 - acc: 0.9691\n",
      "25000/25000 [==============================] - 5s 191us/step\n",
      "25000/25000 [==============================] - 5s 189us/step\n",
      "[0.058256155515909194, 0.98444002866745]\n",
      "[0.44275501527786254, 0.8503199815750122]\n"
     ]
    }
   ],
   "source": [
    "from keras.layers import Embedding, Conv1D,MaxPooling1D, GlobalMaxPooling1D, Dense, Dropout\n",
    "from keras.models import Sequential\n",
    "\n",
    "conv_model=Sequential()\n",
    "conv_model.add(Embedding(max_features,32, input_length=700))\n",
    "conv_model.add(Dropout(0.2))\n",
    "conv_model.add(Conv1D(32,7,activation='relu'))\n",
    "conv_model.add(MaxPooling1D(5))\n",
    "conv_model.add(Conv1D(32,7,activation='relu'))\n",
    "conv_model.add(GlobalMaxPooling1D())\n",
    "conv_model.add(Dense(1, activation='sigmoid'))\n",
    "conv_model.summary()\n",
    "conv_model.compile(optimizer='rmsprop',loss='binary_crossentropy',metrics=['acc'])\n",
    "conv_model.fit(x_train,y_train, epochs=10,batch_size=128)\n",
    "tr_loss_acc=conv_model.evaluate(x_train,y_train)\n",
    "test_loss_acc=conv_model.evaluate(x_test,y_test)\n",
    "print(tr_loss_acc)\n",
    "print(test_loss_acc)"
   ]
  },
  {
   "cell_type": "code",
   "execution_count": null,
   "metadata": {},
   "outputs": [],
   "source": []
  }
 ],
 "metadata": {
  "kernelspec": {
   "display_name": "Python 3",
   "language": "python",
   "name": "python3"
  },
  "language_info": {
   "codemirror_mode": {
    "name": "ipython",
    "version": 3
   },
   "file_extension": ".py",
   "mimetype": "text/x-python",
   "name": "python",
   "nbconvert_exporter": "python",
   "pygments_lexer": "ipython3",
   "version": "3.7.4"
  }
 },
 "nbformat": 4,
 "nbformat_minor": 4
}
